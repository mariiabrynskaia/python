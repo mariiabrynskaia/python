{
 "cells": [
  {
   "cell_type": "code",
   "execution_count": null,
   "metadata": {},
   "outputs": [],
   "source": [
    "%pip install -q torch"
   ]
  },
  {
   "cell_type": "code",
   "execution_count": null,
   "metadata": {},
   "outputs": [],
   "source": [
    "import torch.nn as nn"
   ]
  },
  {
   "cell_type": "code",
   "execution_count": null,
   "metadata": {},
   "outputs": [],
   "source": [
    "a = torch.rand((2, 1, 1, 28))\n",
    "a.size()"
   ]
  },
  {
   "cell_type": "code",
   "execution_count": null,
   "metadata": {},
   "outputs": [],
   "source": [
    "a.view(-1).size()"
   ]
  },
  {
   "cell_type": "code",
   "execution_count": null,
   "metadata": {},
   "outputs": [],
   "source": [
    "class CVModel(nn.Module):\n",
    "    def __init__(self):\n",
    "        self.conv_1 = nn.Conv2d(1, 32, (3, 3))# (32 - patterns trying to distinguish(фильтры)) объявление сверточного слоя, нужно несколько гиперпараметров = какое количество слоев у картинки, какое количество фильтров нужно выделить, и размер окна в этих фильтра\n",
    "        self.conv_2 = nn.Conv2d(32, 64, (3, 3))\n",
    "        self.pool_1 = nn.MaxPool2d((2, 2)) \n",
    "        self.conv_3 = nn.Conv2d(64, 128(3, 3))\n",
    "        self.conv_4 = nn.Conv2d(128, 256, (3, 3))\n",
    "        self.pool_2 = nn.MaxPool2d((2, 2))\n",
    "        self.glob_pool = nn.MaxPool2d(28, 28) # растянули матрицу на вектор (вообще должен быть nn.GlobePool2d) nn.Flatten()  #depends on picture size\n",
    "        self.linear = nn.Linear(128, 26) # 26 - латинских букв\n",
    "        self.softmax = nn.Softmax()\n",
    "\n",
    "        def forward(self, X):\n",
    "            res = self.conv_1(X)\n",
    "            res = self.conv_2(res)\n",
    "            res = self.pool_1(res)\n",
    "            res = self.conv_3(res)\n",
    "            res = self.conv_4(res)\n",
    "            res = self.pool_2(res)\n",
    "            res = self.glob_pool(res)\n",
    "            res = self.linear(res.view(-1))\n",
    "            return self.softmax(res)"
   ]
  }
 ],
 "metadata": {
  "kernelspec": {
   "display_name": "Python 3",
   "language": "python",
   "name": "python3"
  },
  "language_info": {
   "name": "python",
   "version": "3.11.5"
  }
 },
 "nbformat": 4,
 "nbformat_minor": 2
}
