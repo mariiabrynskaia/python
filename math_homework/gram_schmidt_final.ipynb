{
 "cells": [
  {
   "cell_type": "code",
   "execution_count": 102,
   "metadata": {},
   "outputs": [],
   "source": [
    "class Matrix:\n",
    "    def __init__(self, matrix):\n",
    "        self.matrix = matrix\n",
    "\n",
    "\n",
    "    def multiply(self, vector1, vector2):\n",
    "        mul_result = sum(vector1[i] * vector2[i] for i in range(len(vector1)))\n",
    "        return mul_result\n",
    "    \n",
    "\n",
    "    def substract(self, vector1, vector2):\n",
    "        sub_result = [vector1[i] - vector2[i] for i in range(len(vector1))]\n",
    "        return sub_result\n",
    "    \n",
    "    \n",
    "    # def transpose(self, matrix):\n",
    "    #     transposed_matrix = [[self.matrix[j][i] for j in range(len(self.matrix))] for i in range(len(self.matrix[0]))]\n",
    "    #     return transposed_matrix\n",
    "    \n",
    "\n",
    "    def projection (self, vector1, vector2):\n",
    "        projection_fraction = self.multiply(vector2, vector1) / self.multiply(vector1, vector1)\n",
    "        return projection_fraction\n",
    "    \n",
    "\n",
    "    def normalize(self, vector):\n",
    "        norm_coefficient = sum([vector[i] ** 2 for i in range(len(vector))]) ** 0.5\n",
    "        norm_result = [vector[i] / norm_coefficient for i in range(len(vector))]\n",
    "        return norm_result\n",
    "\n",
    "\n",
    "    def orthonormal(self):\n",
    "        basis = []\n",
    "        trans_matrix = [[self.matrix[j][i] for j in range(len(self.matrix))] for i in range(len(self.matrix[0]))]\n",
    "        for i in range(len(self.matrix)):\n",
    "            vector = trans_matrix[i]\n",
    "            for j in range(len(basis)):\n",
    "                vector = self.substract(vector, [self.projection(vector, basis[j]) * basis[j][k] for k in range(len(basis[j]))])\n",
    "            if vector != 0:\n",
    "                basis.append(self.normalize(vector))\n",
    "            # for a in range(len(vector)):\n",
    "            #     for b in range(0):\n",
    "            #         zero_count += vector[a][b]\n",
    "            # if zero_count != 0:\n",
    "            #     basis.append(self.normalize(vector))\n",
    "        return basis"
   ]
  },
  {
   "cell_type": "code",
   "execution_count": 103,
   "metadata": {},
   "outputs": [
    {
     "data": {
      "text/plain": [
       "[[0.0601929265428846,\n",
       "  0.300964632714423,\n",
       "  0.5417363388859614,\n",
       "  0.7825080450574998],\n",
       " [0.10925414631703738,\n",
       "  0.3274037024471765,\n",
       "  0.5455532585773155,\n",
       "  0.7637028147074547],\n",
       " [0.14957290387697333,\n",
       "  0.34842594724678155,\n",
       "  0.5472789906165897,\n",
       "  0.7461320339863979],\n",
       " [0.18304475290074462,\n",
       "  0.3653836097155714,\n",
       "  0.5477224665303981,\n",
       "  0.730061323345225]]"
      ]
     },
     "execution_count": 103,
     "metadata": {},
     "output_type": "execute_result"
    }
   ],
   "source": [
    "matrix1 = Matrix([\n",
    "    [1, 2, 3, 4],\n",
    "    [5, 6, 7, 8],\n",
    "    [9, 10, 11, 12],\n",
    "    [13, 14, 15, 16],\n",
    "]\n",
    ")\n",
    "\n",
    "matrix1.orthonormal()"
   ]
  },
  {
   "cell_type": "code",
   "execution_count": 104,
   "metadata": {},
   "outputs": [
    {
     "data": {
      "text/plain": [
       "[[0.09712858623572641,\n",
       "  0.48564293117863205,\n",
       "  0.7770286898858113,\n",
       "  0.38851434494290565],\n",
       " [0.20305227506885457,\n",
       "  0.6071926902184727,\n",
       "  0.7062636590177862,\n",
       "  0.3021232438681681],\n",
       " [0.3057540480615564,\n",
       "  0.7095724452368363,\n",
       "  0.6028373455828231,\n",
       "  0.1990189484075433],\n",
       " [0.3924279592099771,\n",
       "  0.7797731088489005,\n",
       "  0.4790986274776008,\n",
       "  0.09175347783867731]]"
      ]
     },
     "execution_count": 104,
     "metadata": {},
     "output_type": "execute_result"
    }
   ],
   "source": [
    "matrix2 = Matrix([\n",
    "    [1, 2, 3, 4],\n",
    "    [5, 6, 7, 8],\n",
    "    [8, 7, 6, 5],\n",
    "    [4, 3, 2, 1],\n",
    "]\n",
    ")\n",
    "\n",
    "matrix2.orthonormal()"
   ]
  }
 ],
 "metadata": {
  "kernelspec": {
   "display_name": "Python 3",
   "language": "python",
   "name": "python3"
  },
  "language_info": {
   "codemirror_mode": {
    "name": "ipython",
    "version": 3
   },
   "file_extension": ".py",
   "mimetype": "text/x-python",
   "name": "python",
   "nbconvert_exporter": "python",
   "pygments_lexer": "ipython3",
   "version": "3.11.5"
  },
  "orig_nbformat": 4
 },
 "nbformat": 4,
 "nbformat_minor": 2
}
