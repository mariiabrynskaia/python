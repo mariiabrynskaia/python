{
 "cells": [
  {
   "cell_type": "code",
   "execution_count": 34,
   "metadata": {},
   "outputs": [],
   "source": [
    "class Matrix:\n",
    "    def __init__(self, matrix):\n",
    "        self.matrix = matrix\n",
    "\n",
    "\n",
    "    def multiply(self, vector1, vector2):\n",
    "        mul_result = sum([vector1[i] * vector2[i] for i in range(len(vector1))])\n",
    "        return mul_result\n",
    "\n",
    "\n",
    "    def subtract(self, vector1, vector2):\n",
    "        sub_result = [vector1[i] - vector2[i] for i in range(len(vector1))]\n",
    "        return sub_result\n",
    "    \n",
    "\n",
    "    def number_multiply(self, number, vector):\n",
    "        num_mul_result = [number * vector[i] for i in range(len(vector))]\n",
    "        return num_mul_result\n",
    "    \n",
    "\n",
    "    def normalize(self, vector):\n",
    "        norm_coefficient = sum([vector[i] ** 2 for i in range(len(vector))]) ** 0.5\n",
    "        norm_result = [vector[i] / norm_coefficient for i in range(len(vector))]\n",
    "        return norm_result\n",
    "    \n",
    "\n",
    "    def orthonormal(self):\n",
    "        basis = []\n",
    "        for i in range(len(self.matrix)):\n",
    "            vector = self.matrix[i]\n",
    "            for j in range(i):\n",
    "                try:\n",
    "                    projection = self.multiply(self.matrix[i], basis[j]) / self.multiply(basis[j], basis[j])\n",
    "                    vector = self.subtract(vector, self.number_multiply(projection, basis[j]))\n",
    "                except IndexError:\n",
    "                    continue\n",
    "            if not all(element == 0 for element in vector):\n",
    "                basis.append(self.normalize(vector))\n",
    "        return basis"
   ]
  },
  {
   "cell_type": "code",
   "execution_count": 35,
   "metadata": {},
   "outputs": [
    {
     "data": {
      "text/plain": [
       "[[0.5773502691896258, -0.5773502691896258, 0.0, 0.5773502691896258],\n",
       " [0.4082482904638631, 0.8164965809277261, 0.0, 0.4082482904638631],\n",
       " [0.4082482904638631, 0.0, 0.8164965809277261, -0.4082482904638631],\n",
       " [-0.5773502691896257, 0.0, 0.5773502691896257, 0.5773502691896257]]"
      ]
     },
     "execution_count": 35,
     "metadata": {},
     "output_type": "execute_result"
    }
   ],
   "source": [
    "matrix1 = Matrix([\n",
    "    [1, -1, 0, 1], \n",
    "    [2, 1, 0, 2], \n",
    "    [0, 1, 2, -2], \n",
    "    [-3, 0, 1, 0]\n",
    "    ])\n",
    "\n",
    "matrix1.orthonormal()"
   ]
  },
  {
   "cell_type": "code",
   "execution_count": 43,
   "metadata": {},
   "outputs": [
    {
     "data": {
      "text/plain": [
       "[[0.31622776601683794, 0.0, 0.9486832980505138, 0.0],\n",
       " [0.0, 0.24253562503633297, 0.0, 0.9701425001453319],\n",
       " [-0.5180936716768301,\n",
       "  -0.812695955571498,\n",
       "  0.1726978905589433,\n",
       "  0.20317398889287455]]"
      ]
     },
     "execution_count": 43,
     "metadata": {},
     "output_type": "execute_result"
    }
   ],
   "source": [
    "matrix2 = Matrix([\n",
    "    [1, 0, 3, 0], \n",
    "    [0, 1, 0, 4], \n",
    "    [0, 0, 1, 2], \n",
    "    [0, 0, 0, 0]\n",
    "    ])\n",
    "\n",
    "matrix2.orthonormal()"
   ]
  },
  {
   "cell_type": "code",
   "execution_count": 48,
   "metadata": {},
   "outputs": [
    {
     "data": {
      "text/plain": [
       "[[0.21320071635561041,\n",
       "  0.21320071635561041,\n",
       "  0.42640143271122083,\n",
       "  0.8528028654224417],\n",
       " [-0.6741998624632421,\n",
       "  0.3146266024828463,\n",
       "  0.6292532049656926,\n",
       "  -0.22473328748774737]]"
      ]
     },
     "execution_count": 48,
     "metadata": {},
     "output_type": "execute_result"
    }
   ],
   "source": [
    "matrix3 = Matrix([\n",
    "    [0, 0, 0, 0], \n",
    "    [1, 1, 2, 4], \n",
    "    [-3, 1, 2, -2], \n",
    "    [0, 0, 0, 0]\n",
    "    ])\n",
    "\n",
    "matrix3.orthonormal()"
   ]
  }
 ],
 "metadata": {
  "kernelspec": {
   "display_name": "Python 3",
   "language": "python",
   "name": "python3"
  },
  "language_info": {
   "codemirror_mode": {
    "name": "ipython",
    "version": 3
   },
   "file_extension": ".py",
   "mimetype": "text/x-python",
   "name": "python",
   "nbconvert_exporter": "python",
   "pygments_lexer": "ipython3",
   "version": "3.11.5"
  },
  "orig_nbformat": 4
 },
 "nbformat": 4,
 "nbformat_minor": 2
}
