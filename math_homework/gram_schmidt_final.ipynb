{
 "cells": [
  {
   "cell_type": "code",
   "execution_count": 52,
   "metadata": {},
   "outputs": [],
   "source": [
    "class Matrix:\n",
    "    def __init__(self, matrix):\n",
    "        self.matrix = matrix\n",
    "\n",
    "\n",
    "    def multiply(self, vector1, vector2):\n",
    "        mul_result = sum(vector1[i] * vector2[i] for i in range(len(vector1)))\n",
    "        return mul_result\n",
    "    \n",
    "\n",
    "    def substract(self, vector1, vector2):\n",
    "        sub_result = [vector1[i] - vector2[i] for i in range(len(vector1))]\n",
    "        return sub_result\n",
    "    \n",
    "\n",
    "    def add(self, vector1, vector2):\n",
    "        add_result = [vector1[i] + vector2[i] for i in range(len(vector1))]\n",
    "        return add_result\n",
    "    \n",
    "    \n",
    "    # def transpose(self, matrix):\n",
    "    #     transposed_matrix = [[self.matrix[j][i] for j in range(len(self.matrix))] for i in range(len(self.matrix[0]))]\n",
    "    #     return transposed_matrix\n",
    "    \n",
    "\n",
    "    def projection (self, vector1, vector2):\n",
    "        projection_fraction = self.multiply(vector2, vector1) / self.multiply(vector1, vector1)\n",
    "        return projection_fraction\n",
    "    \n",
    "\n",
    "    def normalize(self, vector):\n",
    "        norm_coefficient = sum([vector[i] ** 2 for i in range(len(vector))]) ** 0.5\n",
    "        norm_result = [vector[i] / norm_coefficient for i in range(len(vector))]\n",
    "        return norm_result\n",
    "\n",
    "\n",
    "    def orthonormal(self):\n",
    "        basis = []\n",
    "        final_basis = []\n",
    "        trans_matrix = [[self.matrix[j][i] for i in range(len(self.matrix))] for j in range(len(self.matrix[0]))]\n",
    "        projection_sum = []\n",
    "        for i in range(len(self.matrix)):\n",
    "            vector = trans_matrix[i]\n",
    "            for j in range(len(basis)):\n",
    "                projection = [self.projection(vector, basis[j]) * basis[j][k] for k in range(len(basis[j]))]\n",
    "                # print(projection)\n",
    "                projection_sum = self.add(projection_sum, projection)\n",
    "                vector = self.substract(vector, projection_sum)\n",
    "            if sum(vector) != 0:\n",
    "                final_basis.append(self.normalize(vector))\n",
    "            # for a in range(len(vector)):\n",
    "            #     for b in range(0):\n",
    "            #         zero_count += vector[a][b]\n",
    "            # if zero_count != 0:\n",
    "            #     basis.append(self.normalize(vector))\n",
    "        return final_basis"
   ]
  },
  {
   "cell_type": "code",
   "execution_count": 53,
   "metadata": {},
   "outputs": [
    {
     "data": {
      "text/plain": [
       "[[0.18257418583505536,\n",
       "  0.3651483716701107,\n",
       "  0.5477225575051661,\n",
       "  0.7302967433402214],\n",
       " [0.3790490217894517,\n",
       "  0.454858826147342,\n",
       "  0.5306686305052324,\n",
       "  0.6064784348631227],\n",
       " [0.42616235142934056,\n",
       "  0.47351372381037843,\n",
       "  0.5208650961914163,\n",
       "  0.5682164685724541],\n",
       " [0.44694920671214383,\n",
       "  0.48132991492077026,\n",
       "  0.5157106231293968,\n",
       "  0.5500913313380231]]"
      ]
     },
     "execution_count": 53,
     "metadata": {},
     "output_type": "execute_result"
    }
   ],
   "source": [
    "matrix1 = Matrix([\n",
    "    [1, 2, 3, 4],\n",
    "    [5, 6, 7, 8],\n",
    "    [9, 10, 11, 12],\n",
    "    [13, 14, 15, 16],\n",
    "]\n",
    ")\n",
    "\n",
    "matrix1.orthonormal()"
   ]
  },
  {
   "cell_type": "code",
   "execution_count": 54,
   "metadata": {},
   "outputs": [
    {
     "data": {
      "text/plain": [
       "[[0.5, 0.5, 0.5, 0.5],\n",
       " [0.7715167498104595,\n",
       "  0.4629100498862757,\n",
       "  0.3086066999241838,\n",
       "  0.3086066999241838],\n",
       " [0.8677218312746247,\n",
       "  0.10846522890932808,\n",
       "  0.4338609156373123,\n",
       "  0.21693045781865616],\n",
       " [0.5897678246195885,\n",
       "  0.7372097807744856,\n",
       "  0.29488391230979427,\n",
       "  0.14744195615489714]]"
      ]
     },
     "execution_count": 54,
     "metadata": {},
     "output_type": "execute_result"
    }
   ],
   "source": [
    "matrix2 = Matrix([\n",
    "    [1, 1, 1, 1],\n",
    "    [5, 3, 2, 2],\n",
    "    [8, 1, 4, 2],\n",
    "    [4, 5, 2, 1],\n",
    "]\n",
    ")\n",
    "\n",
    "matrix2.orthonormal()"
   ]
  }
 ],
 "metadata": {
  "kernelspec": {
   "display_name": "Python 3",
   "language": "python",
   "name": "python3"
  },
  "language_info": {
   "codemirror_mode": {
    "name": "ipython",
    "version": 3
   },
   "file_extension": ".py",
   "mimetype": "text/x-python",
   "name": "python",
   "nbconvert_exporter": "python",
   "pygments_lexer": "ipython3",
   "version": "3.11.5"
  },
  "orig_nbformat": 4
 },
 "nbformat": 4,
 "nbformat_minor": 2
}
