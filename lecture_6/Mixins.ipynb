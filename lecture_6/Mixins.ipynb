{
 "cells": [
  {
   "cell_type": "code",
   "execution_count": 1,
   "id": "23110f00-89f2-4482-a901-bb5c52e6c128",
   "metadata": {},
   "outputs": [],
   "source": [
    "class MixinDo:\n",
    "    def like(self, occupation: str = None):\n",
    "        if occupation is None:\n",
    "            occupation = self.occupation\n",
    "            print('I like to', occupation)\n",
    "            \n",
    "\n",
    "class MixinPlastic:\n",
    "    def plastic(self):\n",
    "        print('I am plastic')\n",
    "        \n",
    "\n",
    "class MixinDust:\n",
    "    def collect_dust(self):\n",
    "        print('I collect dust')\n",
    "        \n",
    "\n",
    "class MixinFallable:\n",
    "    def fall(self):\n",
    "        print('I can fall')\n",
    "        \n",
    "\n",
    "class MixinCartoon:\n",
    "    def cartoon(self):\n",
    "        print('I am from Gravity Falls')\n",
    "        \n",
    "\n",
    "class MixinName:\n",
    "    def call(self, my_name: str = None):\n",
    "        if my_name is None:\n",
    "            my_name = self.my_name\n",
    "            print('I am', my_name)\n",
    "            \n",
    "\n",
    "class MixinSign:\n",
    "    def what_sign(self, sign_name: str = None):\n",
    "        if sign_name is None:\n",
    "            sign_name = self.sign_name\n",
    "            print('My sign is', sign_name)\n",
    "            \n",
    "\n",
    "class MixinAge:\n",
    "    def tell_age(self):\n",
    "        print('I am 13 years old')\n",
    "        \n",
    "\n",
    "class MixinClothes:\n",
    "    def wear(self, clothes: str = None):\n",
    "        if clothes is None:\n",
    "            clothes = self.clothes\n",
    "            print('I have', clothes)"
   ]
  },
  {
   "cell_type": "code",
   "execution_count": 2,
   "id": "34a6bbcc-d7a2-4341-96f8-77a63e3fca8a",
   "metadata": {},
   "outputs": [],
   "source": [
    "class Character:\n",
    "    def __init__(\n",
    "        self,\n",
    "        universe: str = 'Gravity Falls',\n",
    "        age: str = 'teenager'\n",
    "    ):\n",
    "        self.universe = universe\n",
    "        self.age = age"
   ]
  },
  {
   "cell_type": "code",
   "execution_count": 3,
   "id": "3580f184-d15b-4a8c-aef1-20a0f410fe03",
   "metadata": {},
   "outputs": [],
   "source": [
    "class Dipper(Character):\n",
    "    def __init__(\n",
    "        self,\n",
    "        my_name: str = 'Dipper',\n",
    "        sign_name: str = 'pine tree',\n",
    "        occupation: str = 'read diaries',  \n",
    "        clothes: str = 'a blue-white cap and a jacket'\n",
    "    ):\n",
    "        self.my_name = my_name\n",
    "        self.sign_name = sign_name\n",
    "        self.occupation = occupation\n",
    "        self.clothes = clothes\n",
    "        \n",
    "\n",
    "class Mabel(Character):\n",
    "    def __init__(\n",
    "        self,\n",
    "        my_name: str = 'Mabel',\n",
    "        sign_name: str = 'shooting star',\n",
    "        occupation: str = 'wear sweaters',\n",
    "        clothes: str = 'a skirt and a sweater'\n",
    "    ):\n",
    "        self.my_name = my_name\n",
    "        self.sign_name = sign_name\n",
    "        self.occupation = occupation    \n",
    "        self.clothes = clothes\n",
    "        \n",
    "\n",
    "class Pacifica(Character):\n",
    "    def __init__(\n",
    "        self,\n",
    "        my_name: str = 'Pacifica',\n",
    "        sign_name: str = 'llama',\n",
    "        occupation: str = 'play mini-golf',\n",
    "        clothes: str = 'a purple dress'\n",
    "    ):\n",
    "        self.my_name = my_name\n",
    "        self.sign_name = sign_name\n",
    "        self.occupation = occupation\n",
    "        self.clothes = clothes"
   ]
  },
  {
   "cell_type": "code",
   "execution_count": 4,
   "id": "6274fc27-820e-4bbc-a9d8-5d8a5adfb06a",
   "metadata": {},
   "outputs": [],
   "source": [
    "class FunkoPop(MixinPlastic, MixinDust, MixinFallable, MixinClothes):\n",
    "    pass"
   ]
  },
  {
   "cell_type": "code",
   "execution_count": 5,
   "id": "76be480f-9a5d-4f14-8519-467d4ab2e4c1",
   "metadata": {},
   "outputs": [],
   "source": [
    "class Playable(MixinSign, MixinAge, MixinDo, MixinCartoon, MixinName, MixinClothes):\n",
    "    pass"
   ]
  },
  {
   "cell_type": "code",
   "execution_count": 6,
   "id": "d950bcc7-ace8-4960-b28e-3ac9b6398cbe",
   "metadata": {},
   "outputs": [],
   "source": [
    "class PlayableDipper(Dipper, Playable):\n",
    "    pass\n",
    "\n",
    "class PlayableMabel(Mabel, Playable):\n",
    "    pass\n",
    "\n",
    "class PlayablePacifica(Pacifica, Playable):\n",
    "    pass"
   ]
  },
  {
   "cell_type": "code",
   "execution_count": 7,
   "id": "95b12abe-a97d-4fd5-b400-e5fb9c457047",
   "metadata": {},
   "outputs": [],
   "source": [
    "class ToyDipper(Dipper, FunkoPop):\n",
    "    pass\n",
    "\n",
    "class ToyMabel(Mabel, FunkoPop):\n",
    "    pass\n",
    "\n",
    "class ToyPacifica(Pacifica, FunkoPop):\n",
    "    pass"
   ]
  },
  {
   "cell_type": "code",
   "execution_count": 8,
   "id": "09e57c69-b79b-40e4-a645-ebd4956cab1f",
   "metadata": {},
   "outputs": [
    {
     "name": "stdout",
     "output_type": "stream",
     "text": [
      "I am Dipper\n",
      "I am from Gravity Falls\n",
      "My sign is pine tree\n",
      "I am 13 years old\n",
      "I like to read diaries\n",
      "I have a blue-white cap and a jacket\n"
     ]
    }
   ],
   "source": [
    "dipper_human = PlayableDipper()\n",
    "dipper_human.call()\n",
    "dipper_human.cartoon()\n",
    "dipper_human.what_sign()\n",
    "dipper_human.tell_age()\n",
    "dipper_human.like()\n",
    "dipper_human.wear()"
   ]
  },
  {
   "cell_type": "code",
   "execution_count": 9,
   "id": "c771ce01-7dd1-4daf-9144-2781603dc66a",
   "metadata": {},
   "outputs": [
    {
     "name": "stdout",
     "output_type": "stream",
     "text": [
      "I am Mabel\n",
      "I am from Gravity Falls\n",
      "My sign is shooting star\n",
      "I am 13 years old\n",
      "I like to wear sweaters\n",
      "I have a skirt and a sweater\n"
     ]
    }
   ],
   "source": [
    "mabel_human = PlayableMabel()\n",
    "mabel_human.call()\n",
    "mabel_human.cartoon()\n",
    "mabel_human.what_sign()\n",
    "mabel_human.tell_age()\n",
    "mabel_human.like()\n",
    "mabel_human.wear()"
   ]
  },
  {
   "cell_type": "code",
   "execution_count": 10,
   "id": "243e0d2d-3443-4557-ba1d-3057190476d4",
   "metadata": {},
   "outputs": [
    {
     "name": "stdout",
     "output_type": "stream",
     "text": [
      "I am Pacifica\n",
      "I am from Gravity Falls\n",
      "My sign is llama\n",
      "I am 13 years old\n",
      "I like to play mini-golf\n",
      "I have a purple dress\n"
     ]
    }
   ],
   "source": [
    "pacifica_human = PlayablePacifica()\n",
    "pacifica_human.call()\n",
    "pacifica_human.cartoon()\n",
    "pacifica_human.what_sign()\n",
    "pacifica_human.tell_age()\n",
    "pacifica_human.like()\n",
    "pacifica_human.wear()"
   ]
  },
  {
   "cell_type": "code",
   "execution_count": 11,
   "id": "766cc3d6-3cd4-4af9-b4d2-17df13117d94",
   "metadata": {},
   "outputs": [
    {
     "name": "stdout",
     "output_type": "stream",
     "text": [
      "I collect dust\n",
      "I have a blue-white cap and a jacket\n"
     ]
    }
   ],
   "source": [
    "dipper_toy = ToyDipper()\n",
    "dipper_toy.collect_dust()\n",
    "dipper_toy.wear()"
   ]
  },
  {
   "cell_type": "code",
   "execution_count": 12,
   "id": "4e4e9462-f036-4c4e-99df-1adf5687a452",
   "metadata": {},
   "outputs": [
    {
     "name": "stdout",
     "output_type": "stream",
     "text": [
      "I can fall\n",
      "I have a skirt and a sweater\n"
     ]
    }
   ],
   "source": [
    "mabel_toy = ToyMabel()\n",
    "mabel_toy.fall()\n",
    "mabel_toy.wear()"
   ]
  },
  {
   "cell_type": "code",
   "execution_count": 13,
   "id": "e8f3ad2e-aad3-4bff-9239-e654fe68d480",
   "metadata": {},
   "outputs": [
    {
     "name": "stdout",
     "output_type": "stream",
     "text": [
      "I am plastic\n",
      "I have a purple dress\n"
     ]
    }
   ],
   "source": [
    "pacifica_toy = ToyPacifica()\n",
    "pacifica_toy.plastic()\n",
    "pacifica_toy.wear()"
   ]
  }
 ],
 "metadata": {
  "kernelspec": {
   "display_name": "Python 3 (ipykernel)",
   "language": "python",
   "name": "python3"
  },
  "language_info": {
   "codemirror_mode": {
    "name": "ipython",
    "version": 3
   },
   "file_extension": ".py",
   "mimetype": "text/x-python",
   "name": "python",
   "nbconvert_exporter": "python",
   "pygments_lexer": "ipython3",
   "version": "3.11.5"
  }
 },
 "nbformat": 4,
 "nbformat_minor": 5
}
