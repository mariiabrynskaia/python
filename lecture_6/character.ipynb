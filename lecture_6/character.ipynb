{
 "cells": [
  {
   "cell_type": "code",
   "execution_count": 1,
   "id": "79434f87-51ac-4fbd-8b8a-d8a92504b432",
   "metadata": {},
   "outputs": [
    {
     "name": "stdout",
     "output_type": "stream",
     "text": [
      "Note: you may need to restart the kernel to use updated packages.\n"
     ]
    }
   ],
   "source": [
    "%pip install -q numpy rich\n",
    "from rich import print as rich_print"
   ]
  },
  {
   "cell_type": "code",
   "execution_count": 2,
   "id": "1b26bf0c-ed28-4378-bc75-bbc310ad0a15",
   "metadata": {},
   "outputs": [],
   "source": [
    "class Character:\n",
    "    \n",
    "\n",
    "    def __init__(\n",
    "        self,\n",
    "        iq: float | int,\n",
    "        speed: float | int,\n",
    "        flexibility: float | int,\n",
    "        empathy: float | int,\n",
    "        strength: float | int,  \n",
    "        money: float | int\n",
    "    ):\n",
    "        self.iq = iq\n",
    "        self.speed = speed\n",
    "        self.flexibility = flexibility\n",
    "        self.empathy = empathy\n",
    "        self.strength = strength\n",
    "        self.money = money\n",
    "\n",
    "\n",
    "    def trade(self, money: int | float = None):\n",
    "        if money is None:\n",
    "            money = self.money\n",
    "            if money >= 1:\n",
    "                print('Я готов торговаться')\n",
    "            else:\n",
    "                print('Я не могу торговаться')\n",
    "        \n",
    "\n",
    "    def move(self, speed: float | int = None):\n",
    "        if speed is None:\n",
    "            speed = self.speed\n",
    "        if speed >= 7:\n",
    "            print('Я бегу со скоростью - ', speed)\n",
    "        else:\n",
    "            print('Я иду со скоростью - ', speed)\n",
    "\n",
    "\n",
    "    def think(self, iq: float | int = None):\n",
    "        if iq is None:\n",
    "            iq = self.iq\n",
    "        if iq >= 90:\n",
    "            print('Я ушёл в чертоги разума')\n",
    "        else:\n",
    "            print('Я не умею думать')\n",
    "\n",
    "\n",
    "    def damage(self, strength: float | int = None, flexibility: float | int = None):\n",
    "        if strength is None or flexibility is None or speed is None:\n",
    "            strength = self.strength\n",
    "            flexibility = self.flexibility\n",
    "            speed = self.speed\n",
    "        damage_count = (self.speed + self.flexibility) * self.strength\n",
    "        if damage_count >= 100:\n",
    "            print('Я сильный, наношу урон: -', damage_count)\n",
    "        else:\n",
    "            print('Я слабый, мой урон всего лишь: -', damage_count)"
   ]
  },
  {
   "cell_type": "code",
   "execution_count": 3,
   "id": "a19cc7ad-dc41-42d5-9f87-1d8a333af52a",
   "metadata": {},
   "outputs": [],
   "source": [
    "class Hero (Character):\n",
    "\n",
    "    \n",
    "    good_deeds_num: int\n",
    "    \n",
    "\n",
    "    def good_deeds_print(self, good_deeds_num: int = None):\n",
    "        if good_deeds_num is None:\n",
    "            good_deeds_num = self.good_deeds_num\n",
    "            print(f'Я совершил {good_deeds_num} подвиг/а/ов')\n",
    "            \n",
    "    \n",
    "    def empathy_count_hero(self, empathy: float | int = None):\n",
    "        if empathy is None:\n",
    "            empathy = self.empathy\n",
    "        if empathy <= 0:\n",
    "            rich_print('[bold red] Я герой, но злодеяния мне ближе >:( [/bold red]')\n",
    "        else:\n",
    "            rich_print('[bold green] Я добрейший из добрейших [/bold green]')"
   ]
  },
  {
   "cell_type": "code",
   "execution_count": 4,
   "id": "75e23c7e-230a-4b23-a3fb-92fe80fc03c5",
   "metadata": {},
   "outputs": [],
   "source": [
    "class Villian (Character):\n",
    "\n",
    "    \n",
    "    kills: int = 4\n",
    "\n",
    "    \n",
    "    def murder (self, kills: int = None):\n",
    "        if kills is None:\n",
    "            kills = self.kills\n",
    "            if kills >= 1:\n",
    "                print(f'Я убил {kills} человек(а)')\n",
    "            else:\n",
    "                print('Я никого не убивал')\n",
    "                \n",
    "    \n",
    "    def empathy_count_villian(self, empathy: float | int = None):\n",
    "        if empathy is None:\n",
    "            empathy = self.empathy\n",
    "        if empathy >= 0:\n",
    "            rich_print('[bold green] Я злодей, но добро мне ближе :( [/bold green]')\n",
    "        else:\n",
    "            rich_print('[bold red] Я самый злой [/bold red]')"
   ]
  },
  {
   "cell_type": "code",
   "execution_count": 5,
   "id": "e3453851-e1cc-4917-932b-e14fd02796c0",
   "metadata": {},
   "outputs": [],
   "source": [
    "class Angel (Hero):\n",
    "\n",
    "    \n",
    "    wings: int = 4\n",
    "\n",
    "\n",
    "    def fly(self, wings: int = None):\n",
    "        if wings is None:\n",
    "            wings = self.wings\n",
    "        if wings >= 1:\n",
    "            print('I can fly')\n",
    "        else:\n",
    "            print('I cannot fly')"
   ]
  },
  {
   "cell_type": "code",
   "execution_count": 6,
   "id": "28e2a42a-4d60-41d2-b4fc-cb9c0df0f105",
   "metadata": {},
   "outputs": [],
   "source": [
    "angel1 = Angel(\n",
    "    iq = 111,\n",
    "    empathy = 10,\n",
    "    speed = 44,\n",
    "    flexibility = 1,\n",
    "    strength = 55,\n",
    "    money = 50\n",
    ")\n",
    "angel1.wings = 6\n",
    "angel1.good_deeds_num = 10"
   ]
  },
  {
   "cell_type": "code",
   "execution_count": 7,
   "id": "7df0dd3d-3511-4f79-8f90-a72db0b7b7b3",
   "metadata": {},
   "outputs": [
    {
     "name": "stdout",
     "output_type": "stream",
     "text": [
      "Я готов торговаться\n",
      "Я бегу со скоростью -  44\n",
      "Я ушёл в чертоги разума\n",
      "Я сильный, наношу урон: - 2475\n"
     ]
    },
    {
     "data": {
      "text/html": [
       "<pre style=\"white-space:pre;overflow-x:auto;line-height:normal;font-family:Menlo,'DejaVu Sans Mono',consolas,'Courier New',monospace\"><span style=\"color: #008000; text-decoration-color: #008000; font-weight: bold\"> Я добрейший из добрейших </span>\n",
       "</pre>\n"
      ],
      "text/plain": [
       "\u001b[1;32m Я добрейший из добрейших \u001b[0m\n"
      ]
     },
     "metadata": {},
     "output_type": "display_data"
    },
    {
     "name": "stdout",
     "output_type": "stream",
     "text": [
      "Я совершил 10 подвиг/а/ов\n",
      "I can fly\n"
     ]
    }
   ],
   "source": [
    "angel1.trade()\n",
    "angel1.move()\n",
    "angel1.think()\n",
    "angel1.damage()\n",
    "angel1.empathy_count_hero()\n",
    "angel1.good_deeds_print()\n",
    "angel1.fly()"
   ]
  },
  {
   "cell_type": "code",
   "execution_count": 8,
   "id": "ef4b6feb-d56c-470d-936f-de3511fd9182",
   "metadata": {},
   "outputs": [],
   "source": [
    "angel2 = Angel(\n",
    "    iq = 50,\n",
    "    empathy = -10,\n",
    "    speed = 1,\n",
    "    flexibility = 1,\n",
    "    strength = 55,\n",
    "    money = 0\n",
    ")\n",
    "angel2.wings = 0\n",
    "angel2.good_deeds_num = 1"
   ]
  },
  {
   "cell_type": "code",
   "execution_count": 9,
   "id": "4ecc89e9-2504-424c-b475-00199ec949af",
   "metadata": {},
   "outputs": [
    {
     "name": "stdout",
     "output_type": "stream",
     "text": [
      "Я не могу торговаться\n",
      "Я иду со скоростью -  1\n",
      "Я не умею думать\n",
      "Я сильный, наношу урон: - 110\n"
     ]
    },
    {
     "data": {
      "text/html": [
       "<pre style=\"white-space:pre;overflow-x:auto;line-height:normal;font-family:Menlo,'DejaVu Sans Mono',consolas,'Courier New',monospace\"><span style=\"color: #800000; text-decoration-color: #800000; font-weight: bold\"> Я герой, но злодеяния мне ближе &gt;:( </span>\n",
       "</pre>\n"
      ],
      "text/plain": [
       "\u001b[1;31m Я герой, но злодеяния мне ближе >:\u001b[0m\u001b[1;31m(\u001b[0m\u001b[1;31m \u001b[0m\n"
      ]
     },
     "metadata": {},
     "output_type": "display_data"
    },
    {
     "name": "stdout",
     "output_type": "stream",
     "text": [
      "Я совершил 1 подвиг/а/ов\n",
      "I cannot fly\n"
     ]
    }
   ],
   "source": [
    "angel2.trade()\n",
    "angel2.move()\n",
    "angel2.think()\n",
    "angel2.damage()\n",
    "angel2.empathy_count_hero()\n",
    "angel2.good_deeds_print()\n",
    "angel2.fly()"
   ]
  },
  {
   "cell_type": "code",
   "execution_count": 10,
   "id": "159a8abe-c5bc-41df-a742-3dba7369b1dd",
   "metadata": {},
   "outputs": [],
   "source": [
    "class Monster (Villian):\n",
    "\n",
    "    skin_color: str\n",
    "\n",
    "\n",
    "    def skin(self, skin_color:str = None):\n",
    "        if skin_color is None:\n",
    "            skin_color = self.skin_color\n",
    "            print('Мой цвет -', skin_color)"
   ]
  },
  {
   "cell_type": "code",
   "execution_count": 11,
   "id": "dbbb650e-3a77-4f20-b09b-c18c66c5d205",
   "metadata": {},
   "outputs": [],
   "source": [
    "monster1 = Monster (\n",
    "    iq = 1,\n",
    "    empathy = 10,\n",
    "    speed = 7,\n",
    "    flexibility = 10,\n",
    "    strength = 33,\n",
    "    money = 555\n",
    ")\n",
    "monster1.kills = 0\n",
    "monster1.skin_color = 'красный'"
   ]
  },
  {
   "cell_type": "code",
   "execution_count": 12,
   "id": "13f06bec-0580-4b5c-a829-f474e47eecbf",
   "metadata": {},
   "outputs": [
    {
     "name": "stdout",
     "output_type": "stream",
     "text": [
      "Я готов торговаться\n",
      "Я бегу со скоростью -  7\n",
      "Я не умею думать\n",
      "Я сильный, наношу урон: - 561\n"
     ]
    },
    {
     "data": {
      "text/html": [
       "<pre style=\"white-space:pre;overflow-x:auto;line-height:normal;font-family:Menlo,'DejaVu Sans Mono',consolas,'Courier New',monospace\"><span style=\"color: #008000; text-decoration-color: #008000; font-weight: bold\"> Я злодей, но добро мне ближе :( </span>\n",
       "</pre>\n"
      ],
      "text/plain": [
       "\u001b[1;32m Я злодей, но добро мне ближе :\u001b[0m\u001b[1;32m(\u001b[0m\u001b[1;32m \u001b[0m\n"
      ]
     },
     "metadata": {},
     "output_type": "display_data"
    },
    {
     "name": "stdout",
     "output_type": "stream",
     "text": [
      "Я никого не убивал\n",
      "Мой цвет - красный\n"
     ]
    }
   ],
   "source": [
    "monster1.trade()\n",
    "monster1.move()\n",
    "monster1.think()\n",
    "monster1.damage()\n",
    "monster1.empathy_count_villian()\n",
    "monster1.murder()\n",
    "monster1.skin()"
   ]
  },
  {
   "cell_type": "code",
   "execution_count": 13,
   "id": "c96c5bc5-1c23-41d4-8a60-457f442e72b5",
   "metadata": {},
   "outputs": [],
   "source": [
    "monster2 = Monster (\n",
    "    iq = 167,\n",
    "    empathy = -100,\n",
    "    speed = 1,\n",
    "    flexibility = 1,\n",
    "    strength = 0.5,\n",
    "    money = -999\n",
    ")\n",
    "monster2.kills = 2\n",
    "monster2.skin_color = 'синий'"
   ]
  },
  {
   "cell_type": "code",
   "execution_count": 14,
   "id": "16dd8343-befb-4ce5-a041-63ea67694e1f",
   "metadata": {},
   "outputs": [
    {
     "name": "stdout",
     "output_type": "stream",
     "text": [
      "Я не могу торговаться\n",
      "Я иду со скоростью -  1\n",
      "Я ушёл в чертоги разума\n",
      "Я слабый, мой урон всего лишь: - 1.0\n"
     ]
    },
    {
     "data": {
      "text/html": [
       "<pre style=\"white-space:pre;overflow-x:auto;line-height:normal;font-family:Menlo,'DejaVu Sans Mono',consolas,'Courier New',monospace\"><span style=\"color: #800000; text-decoration-color: #800000; font-weight: bold\"> Я самый злой </span>\n",
       "</pre>\n"
      ],
      "text/plain": [
       "\u001b[1;31m Я самый злой \u001b[0m\n"
      ]
     },
     "metadata": {},
     "output_type": "display_data"
    },
    {
     "name": "stdout",
     "output_type": "stream",
     "text": [
      "Я убил 2 человек(а)\n",
      "Мой цвет - синий\n"
     ]
    }
   ],
   "source": [
    "monster2.trade()\n",
    "monster2.move()\n",
    "monster2.think()\n",
    "monster2.damage()\n",
    "monster2.empathy_count_villian()\n",
    "monster2.murder()\n",
    "monster2.skin()"
   ]
  }
 ],
 "metadata": {
  "kernelspec": {
   "display_name": "Python 3 (ipykernel)",
   "language": "python",
   "name": "python3"
  },
  "language_info": {
   "codemirror_mode": {
    "name": "ipython",
    "version": 3
   },
   "file_extension": ".py",
   "mimetype": "text/x-python",
   "name": "python",
   "nbconvert_exporter": "python",
   "pygments_lexer": "ipython3",
   "version": "3.11.5"
  }
 },
 "nbformat": 4,
 "nbformat_minor": 5
}
