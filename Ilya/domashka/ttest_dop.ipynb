{
 "cells": [
  {
   "cell_type": "code",
   "execution_count": 96,
   "metadata": {},
   "outputs": [],
   "source": [
    "import pandas as pd\n",
    "from scipy import stats as st\n",
    "from rich import print\n",
    "import pandas as pd"
   ]
  },
  {
   "cell_type": "markdown",
   "metadata": {},
   "source": [
    "### Задание №1"
   ]
  },
  {
   "cell_type": "markdown",
   "metadata": {},
   "source": [
    "$H_0$: Время пользования сайта до редизайна = после редизайна. <br>\n",
    "$H_1$: Время пользования сайта до редизайна != после редизайна."
   ]
  },
  {
   "cell_type": "code",
   "execution_count": 105,
   "metadata": {},
   "outputs": [],
   "source": [
    "time_before = [1732, 1301, 1540, 2247, 1632, 1550, 754, 1946, 1889, 2748, 1349, 1648, 1665, 2416, 1470, 1681, 1868, 1629, 1271, 1633, 2131, 942, 1599, 1127, 2200, 661, 1207, 1737, 2410, 1486]\n",
    "\n",
    "time_after = [955, 2577, 360, 139, 1618, 990, 644, 1796, 1487, 949, 472, 1906, 1758, 1258, 2554, 612, 309, 1864, 1294, 1487, 1164, 1559, 491, 2286, 1270, 2069, 1553, 1629, 1704, 1623]\n",
    "\n",
    "time_before_pd = pd.DataFrame(time_before, columns=['before'])\n",
    "time_after_pd = pd.DataFrame(time_after, columns=['after'])\n",
    "\n",
    "data_time = pd.concat([time_before_pd, time_after_pd], axis=1, join = 'inner')"
   ]
  },
  {
   "cell_type": "code",
   "execution_count": 98,
   "metadata": {},
   "outputs": [
    {
     "data": {
      "text/html": [
       "<pre style=\"white-space:pre;overflow-x:auto;line-height:normal;font-family:Menlo,'DejaVu Sans Mono',consolas,'Courier New',monospace\">p-value: <span style=\"color: #008080; text-decoration-color: #008080; font-weight: bold\">0.0751397944405015</span>\n",
       "</pre>\n"
      ],
      "text/plain": [
       "p-value: \u001b[1;36m0.0751397944405015\u001b[0m\n"
      ]
     },
     "metadata": {},
     "output_type": "display_data"
    },
    {
     "data": {
      "text/html": [
       "<pre style=\"white-space:pre;overflow-x:auto;line-height:normal;font-family:Menlo,'DejaVu Sans Mono',consolas,'Courier New',monospace\">Нет оснований отвергнуть нулевую гипотезу\n",
       "</pre>\n"
      ],
      "text/plain": [
       "Нет оснований отвергнуть нулевую гипотезу\n"
      ]
     },
     "metadata": {},
     "output_type": "display_data"
    }
   ],
   "source": [
    "alpha = 0.05\n",
    "\n",
    "# для зависимых перменых - тест rel\n",
    "results = st.ttest_rel(\n",
    "    data_time.before,\n",
    "    data_time.after,\n",
    "    alternative='two-sided'\n",
    ")\n",
    "\n",
    "print(f'p-value: {results.pvalue}')\n",
    "\n",
    "if results.pvalue < alpha:\n",
    "    print('Отвергаем нулевую гипотезу')\n",
    "else:\n",
    "    print('Нет оснований отвергнуть нулевую гипотезу')"
   ]
  },
  {
   "cell_type": "markdown",
   "metadata": {},
   "source": [
    "### Задание 2"
   ]
  },
  {
   "cell_type": "markdown",
   "metadata": {},
   "source": [
    "$H_0$: Количество использованных патронов после нововведения = до нововведения. <br>\n",
    "$H_1$: Количество использованных патронов после нововведения != до нововведения."
   ]
  },
  {
   "cell_type": "code",
   "execution_count": 106,
   "metadata": {},
   "outputs": [],
   "source": [
    "bullets_before = [821, 1164, 598, 854, 455, 1220, 161, 1400, 479, 215, 564, 159, 920, 173, 276, 444, 273, 711, 291, 880, 892, 712, 16, 476, 498, 9, 1251, 938, 389, 513]\n",
    "\n",
    "bullets_after = [904, 220, 676, 459, 299, 659, 1698, 1120, 514, 1086, 1499, 1262, 829, 476, 1149, 996, 1247, 1117, 1324, 532, 1458, 898, 1837, 455, 1667, 898, 474, 558, 639, 1012]\n",
    "\n",
    "bullets_before_pd = pd.DataFrame(bullets_before, columns=['before'])\n",
    "bullets_after_pd = pd.DataFrame(bullets_after, columns=['after'])\n",
    "\n",
    "data_bullets = pd.concat([bullets_before_pd, bullets_after_pd], axis=1, join = 'inner')"
   ]
  },
  {
   "cell_type": "code",
   "execution_count": 107,
   "metadata": {},
   "outputs": [
    {
     "data": {
      "text/html": [
       "<pre style=\"white-space:pre;overflow-x:auto;line-height:normal;font-family:Menlo,'DejaVu Sans Mono',consolas,'Courier New',monospace\">p-value: <span style=\"color: #008080; text-decoration-color: #008080; font-weight: bold\">0.010789503820811123</span>\n",
       "</pre>\n"
      ],
      "text/plain": [
       "p-value: \u001b[1;36m0.010789503820811123\u001b[0m\n"
      ]
     },
     "metadata": {},
     "output_type": "display_data"
    },
    {
     "data": {
      "text/html": [
       "<pre style=\"white-space:pre;overflow-x:auto;line-height:normal;font-family:Menlo,'DejaVu Sans Mono',consolas,'Courier New',monospace\">Отвергаем нулевую гипотезу\n",
       "</pre>\n"
      ],
      "text/plain": [
       "Отвергаем нулевую гипотезу\n"
      ]
     },
     "metadata": {},
     "output_type": "display_data"
    }
   ],
   "source": [
    "alpha = 0.05\n",
    "\n",
    "# задание аналогично первому, переменные тоже зависимые --> rel\n",
    "results2 = st.ttest_rel(\n",
    "    data_bullets.before,\n",
    "    data_bullets.after,\n",
    "    alternative='two-sided'\n",
    ")\n",
    "\n",
    "print(f'p-value: {results2.pvalue}')\n",
    "\n",
    "if results2.pvalue < alpha:\n",
    "    print('Отвергаем нулевую гипотезу')\n",
    "else:\n",
    "    print('Нет оснований отвергнуть нулевую гипотезу')"
   ]
  }
 ],
 "metadata": {
  "kernelspec": {
   "display_name": "Python 3",
   "language": "python",
   "name": "python3"
  },
  "language_info": {
   "codemirror_mode": {
    "name": "ipython",
    "version": 3
   },
   "file_extension": ".py",
   "mimetype": "text/x-python",
   "name": "python",
   "nbconvert_exporter": "python",
   "pygments_lexer": "ipython3",
   "version": "3.11.5"
  }
 },
 "nbformat": 4,
 "nbformat_minor": 2
}
