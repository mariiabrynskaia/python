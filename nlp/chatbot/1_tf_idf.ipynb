{
 "cells": [
  {
   "cell_type": "code",
   "execution_count": 1,
   "id": "898aa717-e31a-4157-a1c6-f16ed266be2b",
   "metadata": {},
   "outputs": [],
   "source": [
    "import pandas as pd\n",
    "from sklearn.feature_extraction.text import TfidfVectorizer\n",
    "from sklearn.metrics.pairwise import cosine_similarity"
   ]
  },
  {
   "cell_type": "code",
   "execution_count": 2,
   "id": "7ffc0629-75c5-4325-9577-3d7e080f0942",
   "metadata": {},
   "outputs": [],
   "source": [
    "df = pd.read_csv('bot_dataset.csv') # датасет для выдачи инструкций"
   ]
  },
  {
   "cell_type": "code",
   "execution_count": 3,
   "id": "67add20a-9c23-4286-bca3-2bcc2536e466",
   "metadata": {},
   "outputs": [
    {
     "data": {
      "text/plain": [
       "response    0\n",
       "prompt      0\n",
       "dtype: int64"
      ]
     },
     "execution_count": 3,
     "metadata": {},
     "output_type": "execute_result"
    }
   ],
   "source": [
    "df.dropna()\n",
    "df.isnull().sum()"
   ]
  },
  {
   "cell_type": "code",
   "execution_count": 4,
   "id": "990a4ccf-a574-4f0f-821c-61d920639488",
   "metadata": {},
   "outputs": [
    {
     "data": {
      "text/html": [
       "<div>\n",
       "<style scoped>\n",
       "    .dataframe tbody tr th:only-of-type {\n",
       "        vertical-align: middle;\n",
       "    }\n",
       "\n",
       "    .dataframe tbody tr th {\n",
       "        vertical-align: top;\n",
       "    }\n",
       "\n",
       "    .dataframe thead th {\n",
       "        text-align: right;\n",
       "    }\n",
       "</style>\n",
       "<table border=\"1\" class=\"dataframe\">\n",
       "  <thead>\n",
       "    <tr style=\"text-align: right;\">\n",
       "      <th></th>\n",
       "      <th>response</th>\n",
       "      <th>prompt</th>\n",
       "    </tr>\n",
       "  </thead>\n",
       "  <tbody>\n",
       "    <tr>\n",
       "      <th>0</th>\n",
       "      <td>. Determine the cause of the clog. Clogs in ki...</td>\n",
       "      <td>What’s the best way to fix my kitchen drain?\\n...</td>\n",
       "    </tr>\n",
       "    <tr>\n",
       "      <th>1</th>\n",
       "      <td>I have broken something by accident in the pas...</td>\n",
       "      <td>I'm just going to go to the store and whatever...</td>\n",
       "    </tr>\n",
       "    <tr>\n",
       "      <th>2</th>\n",
       "      <td>Bonjour</td>\n",
       "      <td>Translate the phrase \"Good Morning\" to French</td>\n",
       "    </tr>\n",
       "    <tr>\n",
       "      <th>3</th>\n",
       "      <td>Samurai warriors played an incredibly importan...</td>\n",
       "      <td>What contribution did Samurai warriors make to...</td>\n",
       "    </tr>\n",
       "    <tr>\n",
       "      <th>4</th>\n",
       "      <td>I think both you and your friend will feel bet...</td>\n",
       "      <td>Yeah, maybe you're right.</td>\n",
       "    </tr>\n",
       "    <tr>\n",
       "      <th>...</th>\n",
       "      <td>...</td>\n",
       "      <td>...</td>\n",
       "    </tr>\n",
       "    <tr>\n",
       "      <th>258021</th>\n",
       "      <td>You need to talk to their customer service but...</td>\n",
       "      <td>It's my first time. Can I get a refund if I re...</td>\n",
       "    </tr>\n",
       "    <tr>\n",
       "      <th>258022</th>\n",
       "      <td>If that's the case, then I think the best thin...</td>\n",
       "      <td>I met him and he told me he's feeling down.</td>\n",
       "    </tr>\n",
       "    <tr>\n",
       "      <th>258023</th>\n",
       "      <td>Police do shoot white people but that's beside...</td>\n",
       "      <td>Police don't shoot white people so that proves...</td>\n",
       "    </tr>\n",
       "    <tr>\n",
       "      <th>258024</th>\n",
       "      <td>You should be willing to help someone out if t...</td>\n",
       "      <td>I need the money and I think it's disgusting a...</td>\n",
       "    </tr>\n",
       "    <tr>\n",
       "      <th>258025</th>\n",
       "      <td>I called her.</td>\n",
       "      <td>Rewrite the following sentence in the past ten...</td>\n",
       "    </tr>\n",
       "  </tbody>\n",
       "</table>\n",
       "<p>258026 rows × 2 columns</p>\n",
       "</div>"
      ],
      "text/plain": [
       "                                                 response  \\\n",
       "0       . Determine the cause of the clog. Clogs in ki...   \n",
       "1       I have broken something by accident in the pas...   \n",
       "2                                                 Bonjour   \n",
       "3       Samurai warriors played an incredibly importan...   \n",
       "4       I think both you and your friend will feel bet...   \n",
       "...                                                   ...   \n",
       "258021  You need to talk to their customer service but...   \n",
       "258022  If that's the case, then I think the best thin...   \n",
       "258023  Police do shoot white people but that's beside...   \n",
       "258024  You should be willing to help someone out if t...   \n",
       "258025                                      I called her.   \n",
       "\n",
       "                                                   prompt  \n",
       "0       What’s the best way to fix my kitchen drain?\\n...  \n",
       "1       I'm just going to go to the store and whatever...  \n",
       "2          Translate the phrase \"Good Morning\" to French   \n",
       "3       What contribution did Samurai warriors make to...  \n",
       "4                               Yeah, maybe you're right.  \n",
       "...                                                   ...  \n",
       "258021  It's my first time. Can I get a refund if I re...  \n",
       "258022        I met him and he told me he's feeling down.  \n",
       "258023  Police don't shoot white people so that proves...  \n",
       "258024  I need the money and I think it's disgusting a...  \n",
       "258025  Rewrite the following sentence in the past ten...  \n",
       "\n",
       "[258026 rows x 2 columns]"
      ]
     },
     "execution_count": 4,
     "metadata": {},
     "output_type": "execute_result"
    }
   ],
   "source": [
    "df"
   ]
  },
  {
   "cell_type": "code",
   "execution_count": 5,
   "id": "4294a0d4-ef03-4a83-aec2-9805d862fbbe",
   "metadata": {},
   "outputs": [],
   "source": [
    "df['response'] = df['response'].str.lower()\n",
    "df['prompt'] = df['prompt'].str.lower()"
   ]
  },
  {
   "cell_type": "code",
   "execution_count": 6,
   "id": "ac536eb5-c8e6-49f5-93e5-d77e0289b4fa",
   "metadata": {},
   "outputs": [],
   "source": [
    "vector = TfidfVectorizer()"
   ]
  },
  {
   "cell_type": "code",
   "execution_count": 7,
   "id": "90eda7cd-68a8-4b21-b996-6386babc2199",
   "metadata": {},
   "outputs": [],
   "source": [
    "tfidf_matrix = vector.fit_transform(df['prompt'])"
   ]
  },
  {
   "cell_type": "code",
   "execution_count": 8,
   "id": "fc6829ca-6795-491c-9ac3-6bfb9593f285",
   "metadata": {},
   "outputs": [],
   "source": [
    "def get_most_similar_response(user_input):\n",
    "    text = user_input.lower()\n",
    "    text_vectorized = vector.transform([text])\n",
    "\n",
    "    similarity = cosine_similarity(text_vectorized, tfidf_matrix).flatten() # смотрим схожесть инпута пользователя с инпутами в датасете\n",
    "\n",
    "    most_similar_index = similarity.argmax()\n",
    "\n",
    "    return df['response'].iloc[most_similar_index] # из колонки response вытягиваем самый близкий ответ"
   ]
  },
  {
   "cell_type": "markdown",
   "id": "b1acd4ae-b9ef-4a3d-845a-22949660ccee",
   "metadata": {},
   "source": [
    "Датасет для того, чтобы тренировать чатбота по выдачи инструкций к определенному запросу. <br>\n",
    "Собственно, с этим он хорошо справляется, в большинстве своем выводит step-by-step инструкции. <br>\n",
    "А вот для basic prompts, таких как ответ на \"I'm fine, thanks for asking\", датасет не приспособлен."
   ]
  },
  {
   "cell_type": "code",
   "execution_count": 9,
   "id": "4a8f3c7a-79e5-424d-aa67-291d0a02de40",
   "metadata": {},
   "outputs": [
    {
     "name": "stdout",
     "output_type": "stream",
     "text": [
      "\u001b[92mChatBot: \u001b[0mTo end the dialogue print \"bye\"\n"
     ]
    },
    {
     "name": "stdout",
     "output_type": "stream",
     "text": [
      "\u001b[91mUser: \u001b[0m Hi!\n"
     ]
    },
    {
     "name": "stdout",
     "output_type": "stream",
     "text": [
      "\u001b[92mChatBot: \u001b[0mhi how are you\n"
     ]
    },
    {
     "name": "stdout",
     "output_type": "stream",
     "text": [
      "\u001b[91mUser: \u001b[0m I'm fine, thanks for asking\n"
     ]
    },
    {
     "name": "stdout",
     "output_type": "stream",
     "text": [
      "\u001b[92mChatBot: \u001b[0mwhat a good person you are. i bet they will love the pizza and you'll fell assured by doing that they will be always lovable people.\n"
     ]
    },
    {
     "name": "stdout",
     "output_type": "stream",
     "text": [
      "\u001b[91mUser: \u001b[0m How do i make a pizza?\n"
     ]
    },
    {
     "name": "stdout",
     "output_type": "stream",
     "text": [
      "\u001b[92mChatBot: \u001b[0mto make a homemade pizza, you will need pizza dough, tomato sauce, cheese, and any desired toppings. preheat your oven to 425°f (or whatever temperature is recommended by the pizza dough instructions). then, roll out the pizza dough into a circle or rectangle and spread the tomato sauce over the top. next add your desired cheese and toppings. bake the pizza in the preheated oven for 15 to 20 minutes, or until the crust is golden brown. enjoy your homemade pizza.\n"
     ]
    },
    {
     "name": "stdout",
     "output_type": "stream",
     "text": [
      "\u001b[91mUser: \u001b[0m how do i stay healthy in winter?\n"
     ]
    },
    {
     "name": "stdout",
     "output_type": "stream",
     "text": [
      "\u001b[92mChatBot: \u001b[0m1. make sure to dress warmly in layers when going out in cold weather.\n",
      "2. avoid going outdoors when the temperature drops significantly.\n",
      "3. stay hydrated and drink plenty of fluids to prevent dehydration.\n",
      "4. eat a balanced diet including lots of fresh fruits and vegetables to keep your immune system in check.\n",
      "5. get plenty of rest and sleep to help your body recover and stay healthy.\n",
      "6. cover your nose and mouth with a scarf or a face mask when going outside to prevent colds and flu.\n",
      "7. clean your hands frequently with soap and water or an alcohol-based sanitizer to keep germs at bay.\n",
      "8. avoid contact with people who are sick and practice social distancing.\n",
      "9. have a flu shot to reduce the risk of contracting the virus.\n",
      "10. avoid smoking and secondhand smoke to protect your respiratory system from cold-induced illnesses.\n"
     ]
    },
    {
     "name": "stdout",
     "output_type": "stream",
     "text": [
      "\u001b[91mUser: \u001b[0m can you compare cats and dogs?\n"
     ]
    },
    {
     "name": "stdout",
     "output_type": "stream",
     "text": [
      "\u001b[92mChatBot: \u001b[0mcats and dogs are both beloved pets, but they have important differences. dogs are typically more outgoing and energetic, while cats are considered more independent. dogs tend to be more social and active, enjoying walks and playing with other animals. cats, on the other hand, tend to be more solitary, preferring to relax and snuggle up in a warm spot. dogs typically require more care and attention, while cats are more self-sufficient. despite these differences, cats and dogs remain popular and loving pets.\n"
     ]
    },
    {
     "name": "stdout",
     "output_type": "stream",
     "text": [
      "\u001b[91mUser: \u001b[0m what exercises can i do to gain muscles?\n"
     ]
    },
    {
     "name": "stdout",
     "output_type": "stream",
     "text": [
      "\u001b[92mChatBot: \u001b[0m1. squats – squats are a great exercise for building lower body strength.\n",
      "\n",
      "2. lunges – lunges are excellent for building leg strength, balance and stability.\n",
      "\n",
      "3. push-ups – push-ups are a great bodyweight exercise for developing upper body strength.\n",
      "\n",
      "4. deadlifts – deadlifts are a powerful strength exercise for building your lower back and core strength.\n",
      "\n",
      "5. pull-ups – pull-ups are an effective way to develop upper body strength.\n",
      "\n",
      "6. chin-ups – chin-ups are another great exercise for building upper body strength.\n",
      "\n",
      "7. farmer's walks – farmer's walks can help build strength and endurance in your hands, arms and core.\n",
      "\n",
      "8. kettlebell swings – kettlebell swings are great for helping to increase your overall strength and power.\n",
      "\n",
      "9. sit-ups – sit-ups are an excellent exercise to strengthen your core muscles.\n",
      "\n",
      "10. plank – the plank is one of the most effective exercises for strengthening your core.\n"
     ]
    },
    {
     "name": "stdout",
     "output_type": "stream",
     "text": [
      "\u001b[91mUser: \u001b[0m bye\n"
     ]
    },
    {
     "name": "stdout",
     "output_type": "stream",
     "text": [
      "\u001b[92mChatBot: \u001b[0mGoodbye!\n"
     ]
    }
   ],
   "source": [
    "print('\\033[92m'+'ChatBot: '+'\\033[0m', end='')\n",
    "print('To end the dialogue print \"bye\"')\n",
    "while True:\n",
    "    user_input = input('\\033[91m'+'User: '+'\\033[0m')\n",
    "    if user_input.lower() == 'bye':\n",
    "        print('\\033[92m'+'ChatBot: '+'\\033[0m', end='')\n",
    "        print('Goodbye!')\n",
    "        break\n",
    "    bot_response = get_most_similar_response(user_input)\n",
    "    print('\\033[92m'+'ChatBot: '+'\\033[0m', end='')\n",
    "    print(bot_response)"
   ]
  }
 ],
 "metadata": {
  "kernelspec": {
   "display_name": "Python 3 (ipykernel)",
   "language": "python",
   "name": "python3"
  },
  "language_info": {
   "codemirror_mode": {
    "name": "ipython",
    "version": 3
   },
   "file_extension": ".py",
   "mimetype": "text/x-python",
   "name": "python",
   "nbconvert_exporter": "python",
   "pygments_lexer": "ipython3",
   "version": "3.10.12"
  }
 },
 "nbformat": 4,
 "nbformat_minor": 5
}
