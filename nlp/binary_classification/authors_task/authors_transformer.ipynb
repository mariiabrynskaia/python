{
 "cells": [
  {
   "cell_type": "markdown",
   "id": "4452bc8e-50c4-405a-a7eb-4039288cdd82",
   "metadata": {},
   "source": [
    "### `Трансформер`"
   ]
  },
  {
   "cell_type": "code",
   "execution_count": 1,
   "id": "9def317a-731f-47b8-9f80-968c0b378e22",
   "metadata": {},
   "outputs": [],
   "source": [
    "import pandas as pd\n",
    "from sklearn.model_selection import train_test_split\n",
    "from sklearn.metrics import accuracy_score\n",
    "from transformers import DistilBertTokenizer, DistilBertForSequenceClassification, AdamW\n",
    "from torch.utils.data import DataLoader, TensorDataset, random_split\n",
    "from tqdm import tqdm # отображать загрузку\n",
    "import torch"
   ]
  },
  {
   "cell_type": "code",
   "execution_count": 2,
   "id": "4e4d52b5-f7a5-43bd-9043-c3dfe02811fe",
   "metadata": {},
   "outputs": [],
   "source": [
    "df = pd.read_csv('authors.csv')"
   ]
  },
  {
   "cell_type": "code",
   "execution_count": 3,
   "id": "ebf9ec4d-1c8e-4083-a9a1-3876f80d0d74",
   "metadata": {},
   "outputs": [],
   "source": [
    "train_df, test_df = train_test_split(df, test_size=0.2, random_state=42)"
   ]
  },
  {
   "cell_type": "markdown",
   "id": "3a6b3294-d0ae-4b45-8427-72edccb4e3b7",
   "metadata": {},
   "source": [
    "Из моделей трансформеров с hugging face, я выбирала среди Bert, Roberta и DistilBert. <br>\n",
    "У всех примерно схожий функционал, однако DistilBert занимает меньше времени для обучения, <br>\n",
    "и требует меньше места в памяти, что подходит для меня в условиях ограниченной компьютерной мощности..."
   ]
  },
  {
   "cell_type": "code",
   "execution_count": 4,
   "id": "b6f3c5bd-6db8-4f94-8f6e-41123a0516d3",
   "metadata": {},
   "outputs": [
    {
     "name": "stderr",
     "output_type": "stream",
     "text": [
      "Some weights of DistilBertForSequenceClassification were not initialized from the model checkpoint at distilbert-base-uncased and are newly initialized: ['classifier.bias', 'pre_classifier.weight', 'pre_classifier.bias', 'classifier.weight']\n",
      "You should probably TRAIN this model on a down-stream task to be able to use it for predictions and inference.\n"
     ]
    }
   ],
   "source": [
    "# загрузка модели\n",
    "tokenizer = DistilBertTokenizer.from_pretrained(\"distilbert-base-uncased\")\n",
    "model = DistilBertForSequenceClassification.from_pretrained(\"distilbert-base-uncased\")"
   ]
  },
  {
   "cell_type": "code",
   "execution_count": 5,
   "id": "06fc72ea-ee73-4d05-9b95-d48ef60c93bf",
   "metadata": {},
   "outputs": [],
   "source": [
    "# предобработка\n",
    "def preprocess(data, max_length=128):\n",
    "    tokenized = tokenizer(list(data[\"text\"]), max_length=max_length, padding=\"max_length\", truncation=True, return_tensors=\"pt\") # макс --> если короче --> если длиннее\n",
    "    labels = torch.tensor(list(data[\"index\"]))\n",
    "    return tokenized, labels"
   ]
  },
  {
   "cell_type": "code",
   "execution_count": 6,
   "id": "e03c0862-4968-4ccb-9762-e563c891dd81",
   "metadata": {},
   "outputs": [],
   "source": [
    "train_data, train_labels = preprocess(train_df)\n",
    "test_data, test_labels = preprocess(test_df)"
   ]
  },
  {
   "cell_type": "code",
   "execution_count": 7,
   "id": "21313ef8-3dc4-4891-ab28-ba2a24765bbb",
   "metadata": {},
   "outputs": [],
   "source": [
    "train_dataset = TensorDataset(train_data[\"input_ids\"], train_data[\"attention_mask\"], train_labels)\n",
    "test_dataset = TensorDataset(test_data[\"input_ids\"], test_data[\"attention_mask\"], test_labels)"
   ]
  },
  {
   "cell_type": "code",
   "execution_count": 8,
   "id": "c36b48d9-dc6c-4fe8-8d74-bee3b8cfd157",
   "metadata": {},
   "outputs": [],
   "source": [
    "batch_size = 16\n",
    "train_loader = DataLoader(train_dataset, batch_size=batch_size, shuffle=True)\n",
    "test_loader = DataLoader(test_dataset, batch_size=batch_size, shuffle=False)"
   ]
  },
  {
   "cell_type": "code",
   "execution_count": 9,
   "id": "2aaf26da-d8b2-40e9-90f9-ff7bddbe65e7",
   "metadata": {},
   "outputs": [],
   "source": [
    "device = torch.device(\"cuda\" if torch.cuda.is_available() else \"cpu\") # где обрабатывается моделька, GPU считается более эффективной, поэтому её первой чекаем\n",
    "model.to(device)\n",
    "optimizer = AdamW(model.parameters(), lr=0.00005, no_deprecation_warning=True) # Adam with Weight decay, от переобучения\n",
    "loss_count = torch.nn.CrossEntropyLoss()"
   ]
  },
  {
   "cell_type": "code",
   "execution_count": 10,
   "id": "bafefdc1-1556-402c-a808-e0c9db1c306c",
   "metadata": {},
   "outputs": [
    {
     "name": "stderr",
     "output_type": "stream",
     "text": [
      "Epoch 1/3: 100%|██████████████████████████████████████████████████████████████████████| 478/478 [32:43<00:00,  4.11s/it]\n"
     ]
    },
    {
     "name": "stdout",
     "output_type": "stream",
     "text": [
      "Epoch 1/3, Average Loss: 0.3026\n"
     ]
    },
    {
     "name": "stderr",
     "output_type": "stream",
     "text": [
      "Epoch 2/3: 100%|██████████████████████████████████████████████████████████████████████| 478/478 [31:37<00:00,  3.97s/it]\n"
     ]
    },
    {
     "name": "stdout",
     "output_type": "stream",
     "text": [
      "Epoch 2/3, Average Loss: 0.2238\n"
     ]
    },
    {
     "name": "stderr",
     "output_type": "stream",
     "text": [
      "Epoch 3/3: 100%|██████████████████████████████████████████████████████████████████████| 478/478 [31:06<00:00,  3.90s/it]"
     ]
    },
    {
     "name": "stdout",
     "output_type": "stream",
     "text": [
      "Epoch 3/3, Average Loss: 0.2042\n"
     ]
    },
    {
     "name": "stderr",
     "output_type": "stream",
     "text": [
      "\n"
     ]
    }
   ],
   "source": [
    "epochs = 3\n",
    "for epoch in range(epochs):\n",
    "    model.train()\n",
    "    total_loss = 0\n",
    "\n",
    "    for batch in tqdm(train_loader, desc=f\"Epoch {epoch + 1}/{epochs}\"): #визуализация загрузки\n",
    "        input_ids, attention_mask, labels = batch\n",
    "        input_ids, attention_mask, labels = input_ids.to(device), attention_mask.to(device), labels.to(device)\n",
    "\n",
    "        optimizer.zero_grad()\n",
    "\n",
    "        outputs = model(input_ids, attention_mask=attention_mask)\n",
    "        loss = loss_count(outputs.logits, labels)\n",
    "        total_loss += loss.item()\n",
    "\n",
    "        loss.backward()\n",
    "        optimizer.step()\n",
    "\n",
    "    average_loss = total_loss / len(train_loader)\n",
    "    print(f\"Epoch {epoch + 1}/{epochs}, Average Loss: {average_loss:.4f}\")"
   ]
  },
  {
   "cell_type": "code",
   "execution_count": 11,
   "id": "c05be5cc-02af-4572-ab49-5bc42a0b7646",
   "metadata": {},
   "outputs": [
    {
     "name": "stderr",
     "output_type": "stream",
     "text": [
      "Evaluating: 100%|█████████████████████████████████████████████████████████████████████| 120/120 [02:24<00:00,  1.20s/it]\n"
     ]
    }
   ],
   "source": [
    "model.eval()\n",
    "predictions = []\n",
    "\n",
    "with torch.no_grad():\n",
    "    for batch in tqdm(test_loader, desc=\"Evaluating\"):\n",
    "        input_ids, attention_mask, labels = batch\n",
    "        input_ids, attention_mask, labels = input_ids.to(device), attention_mask.to(device), labels.to(device)\n",
    "\n",
    "        outputs = model(input_ids, attention_mask=attention_mask)\n",
    "        _, predicted = torch.max(outputs.logits, 1) # max возвращает values и id, нужны только вторые\n",
    "        predictions.extend(predicted.cpu().numpy())"
   ]
  },
  {
   "cell_type": "code",
   "execution_count": 25,
   "id": "77fddafe-197b-40ec-a8c1-7c89e0157ddc",
   "metadata": {},
   "outputs": [
    {
     "name": "stdout",
     "output_type": "stream",
     "text": [
      "Accuracy: 89.7436\n"
     ]
    }
   ],
   "source": [
    "accuracy = accuracy_score(test_labels.numpy(), predictions)\n",
    "print(f\"Accuracy: {accuracy*100:.4f}\")"
   ]
  },
  {
   "cell_type": "code",
   "execution_count": 19,
   "id": "74727179-65d3-4096-a4ae-94c492751699",
   "metadata": {},
   "outputs": [],
   "source": [
    "def predict_class(text):\n",
    "    inputs = tokenizer(text, return_tensors=\"pt\", truncation=True, padding=True, max_length=128)\n",
    "    input_ids = inputs[\"input_ids\"].to(device)\n",
    "    attention_mask = inputs[\"attention_mask\"].to(device)\n",
    "    \n",
    "    with torch.no_grad():\n",
    "        model.eval()\n",
    "        outputs = model(input_ids, attention_mask=attention_mask)\n",
    "        _, predicted_class = torch.max(outputs.logits, 1)\n",
    "\n",
    "    return predicted_class.item()"
   ]
  },
  {
   "cell_type": "code",
   "execution_count": 21,
   "id": "97d1522d-791e-44c5-b97b-7714aee6a1ca",
   "metadata": {},
   "outputs": [
    {
     "name": "stdout",
     "output_type": "stream",
     "text": [
      "Класс: 0\n"
     ]
    }
   ],
   "source": [
    "remark_text ='Женщина шла наискосок через мост прямо на Равика. Она шла  быстро,  но каким-то  нетвердым шагом. Равик заметил ее лишь  тогда, когда она оказалась почти  рядом.'\n",
    "prediction = predict_class(remark_text)\n",
    "print(f\"Класс: {prediction}\")"
   ]
  },
  {
   "cell_type": "code",
   "execution_count": 22,
   "id": "d4a7a616-1290-4081-b545-35c5d98fa592",
   "metadata": {},
   "outputs": [
    {
     "name": "stdout",
     "output_type": "stream",
     "text": [
      "Класс: 0\n"
     ]
    }
   ],
   "source": [
    "my_text = 'Ввожу текст написанный мной для того чтоб оценить точность модельки'\n",
    "prediction = predict_class(my_text)\n",
    "print(f\"Класс: {prediction}\")"
   ]
  },
  {
   "cell_type": "code",
   "execution_count": 23,
   "id": "60bb0608-286f-4db7-b5cc-9bb509543488",
   "metadata": {},
   "outputs": [
    {
     "name": "stdout",
     "output_type": "stream",
     "text": [
      "Класс: 1\n"
     ]
    }
   ],
   "source": [
    "krapivin_text = 'Револьвер был итальянской системы «Пикколо». В точности как настоящий. Только вместо медных патронов – стеклянные баллончики со сжатым воздухом. Хлопал он оглушительно, бил пластмассовыми пулями крепко, но застрелиться из него было все-таки невозможно. Я и не пробовал. Вместо этого лежал на тахте и стрелял по фужерам.'\n",
    "prediction = predict_class(krapivin_text)\n",
    "print(f\"Класс: {prediction}\")"
   ]
  },
  {
   "cell_type": "markdown",
   "id": "0bac1052-f336-4eae-95ac-9e2c0fd409c2",
   "metadata": {},
   "source": [
    "### Results and Comparison\n",
    "1) `Классика`: легка в имплементации, занимает мало времени, высокий результат accuracy. <br>\n",
    "Однако для больших датасетов и сложных тз может не подойти из-за своей простоты.\n",
    "2) `Нейронка`: даёт больше контроля над архитектурой модели, чем классика, занимает мало времени, accuracy тоже высокая. <br>\n",
    "3) `Transformer`: уже pretrained, можно fine-tune для конкретного задания. Accuracy тоже достаточно высокая. <br>\n",
    "Занимает гораздо больше времени, требует больше computer resources."
   ]
  }
 ],
 "metadata": {
  "kernelspec": {
   "display_name": "Python 3 (ipykernel)",
   "language": "python",
   "name": "python3"
  },
  "language_info": {
   "codemirror_mode": {
    "name": "ipython",
    "version": 3
   },
   "file_extension": ".py",
   "mimetype": "text/x-python",
   "name": "python",
   "nbconvert_exporter": "python",
   "pygments_lexer": "ipython3",
   "version": "3.10.12"
  }
 },
 "nbformat": 4,
 "nbformat_minor": 5
}
