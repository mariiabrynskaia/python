{
 "cells": [
  {
   "cell_type": "markdown",
   "metadata": {},
   "source": [
    "### `Создание датасета по писателям`"
   ]
  },
  {
   "cell_type": "code",
   "execution_count": 1,
   "metadata": {},
   "outputs": [],
   "source": [
    "import random\n",
    "import csv\n",
    "import pandas as pd"
   ]
  },
  {
   "cell_type": "code",
   "execution_count": 2,
   "metadata": {},
   "outputs": [],
   "source": [
    "# книги моего автора (Крапивин)\n",
    "krapivin_books = ['1981_crane_and_lightnings.txt', '1992_bronze_boy.txt', '1996_grandson_and_his_brothers.txt', '2004_venus_across_the_sun.txt', '2005_stomp_of_chess_horses.txt', '2010_topol_kids.txt']"
   ]
  },
  {
   "cell_type": "code",
   "execution_count": 3,
   "metadata": {},
   "outputs": [],
   "source": [
    "samples_per_book = 800 # сколько примеров из одной книги будет взято\n",
    "words_per_sample = 50 # сколько слов в одном примере\n",
    "extracted_samples = []\n",
    "extracted_samples2 = []"
   ]
  },
  {
   "cell_type": "code",
   "execution_count": 4,
   "metadata": {},
   "outputs": [],
   "source": [
    "for book in krapivin_books:\n",
    "    \n",
    "    with open(f'{book}') as file:\n",
    "        text = file.read().split()\n",
    "        all_words_len = len(text)\n",
    "\n",
    "        for _ in range(samples_per_book):\n",
    "            start_word_num = random.randint(0, all_words_len - words_per_sample) # рандомное слово будет первым в сэмпле\n",
    "            end_word_num = start_word_num + words_per_sample\n",
    "            sample = \" \".join(text[start_word_num:end_word_num])\n",
    "            extracted_samples.append((sample, 1))  # 1 - для будущего датасета и бинарной классификации"
   ]
  },
  {
   "cell_type": "code",
   "execution_count": 5,
   "metadata": {},
   "outputs": [],
   "source": [
    "file_name = \"krapivin.csv\"\n",
    "with open(file_name, \"w\", encoding=\"utf-8\") as file:\n",
    "    csv_writer = csv.writer(file)\n",
    "    csv_writer.writerow([\"text\", \"index\"])\n",
    "    csv_writer.writerows(extracted_samples)\n",
    "    krapivin = pd.read_csv('krapivin.csv')\n"
   ]
  },
  {
   "cell_type": "code",
   "execution_count": 6,
   "metadata": {},
   "outputs": [],
   "source": [
    "# книги других авторов (Достоевский и Ремарк)\n",
    "other_books = ['1932_remark_three_comrades.txt', '1945_remark_triumf_arka.txt', '1954_remark_time_to_live.txt', '1846_dostoevsky_dvoinik.txt', '1872_dostoevsky_besy.txt', '1875_dostoevsky_podrostok.txt']"
   ]
  },
  {
   "cell_type": "code",
   "execution_count": 7,
   "metadata": {},
   "outputs": [],
   "source": [
    "for book in other_books:\n",
    "\n",
    "    with open(f'{book}') as file:\n",
    "        text = file.read().split()\n",
    "        all_words_len = len(text)\n",
    "\n",
    "        for _ in range(samples_per_book):\n",
    "            start_word_num = random.randint(0, all_words_len - words_per_sample) # рандомное слово будет первым в сэмпле\n",
    "            end_word_num = start_word_num + words_per_sample\n",
    "            sample = \" \".join(text[start_word_num:end_word_num])\n",
    "            extracted_samples2.append((sample, 0))  # 0 - для будущего датасета и бинарной классификации"
   ]
  },
  {
   "cell_type": "code",
   "execution_count": 8,
   "metadata": {},
   "outputs": [],
   "source": [
    "file_name = \"other_books.csv\"\n",
    "with open(file_name, \"w\", encoding=\"utf-8\") as file:\n",
    "    csv_writer = csv.writer(file)\n",
    "    csv_writer.writerow([\"text\", \"index\"])\n",
    "    csv_writer.writerows(extracted_samples2)\n",
    "    others = pd.read_csv('other_books.csv')"
   ]
  },
  {
   "cell_type": "code",
   "execution_count": 9,
   "metadata": {},
   "outputs": [],
   "source": [
    "merged_data = pd.concat([krapivin, others], ignore_index=True)\n",
    "final_name = \"authors.csv\"\n",
    "merged_data.to_csv(final_name, index=False, encoding=\"utf-8\")"
   ]
  }
 ],
 "metadata": {
  "kernelspec": {
   "display_name": "Python 3",
   "language": "python",
   "name": "python3"
  },
  "language_info": {
   "codemirror_mode": {
    "name": "ipython",
    "version": 3
   },
   "file_extension": ".py",
   "mimetype": "text/x-python",
   "name": "python",
   "nbconvert_exporter": "python",
   "pygments_lexer": "ipython3",
   "version": "3.11.5"
  }
 },
 "nbformat": 4,
 "nbformat_minor": 2
}
