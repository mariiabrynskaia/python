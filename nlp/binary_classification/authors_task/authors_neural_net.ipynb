{
 "cells": [
  {
   "cell_type": "code",
   "execution_count": 1,
   "id": "48c845be-5a5c-4c7c-bca5-fc126ffd581a",
   "metadata": {},
   "outputs": [],
   "source": [
    "import torch\n",
    "import torch.nn as nn\n",
    "import torch.optim as optim\n",
    "from torch.utils.data import Dataset, DataLoader\n",
    "from sklearn.model_selection import train_test_split\n",
    "from sklearn.feature_extraction.text import CountVectorizer\n",
    "from sklearn.metrics import accuracy_score\n",
    "import pandas as pd"
   ]
  },
  {
   "cell_type": "code",
   "execution_count": 2,
   "id": "ff499120-a7a6-48a3-b14e-b27638082f17",
   "metadata": {},
   "outputs": [],
   "source": [
    "df = pd.read_csv(\"authors.csv\")"
   ]
  },
  {
   "cell_type": "code",
   "execution_count": 3,
   "id": "e3715ff9-766c-467e-a4cb-152df9d6f854",
   "metadata": {},
   "outputs": [],
   "source": [
    "train_df, test_df = train_test_split(df, test_size=0.2, random_state=42)"
   ]
  },
  {
   "cell_type": "code",
   "execution_count": 4,
   "id": "93b885de-0896-48ad-8e85-c72b65645c3a",
   "metadata": {},
   "outputs": [],
   "source": [
    "class TextDataset(Dataset): # наследует от пайторческого датасета\n",
    "    def __init__(self, texts, labels, vectorizer):\n",
    "        self.texts = texts\n",
    "        self.labels = labels\n",
    "        self.vectorizer = vectorizer\n",
    "\n",
    "    def __len__(self):\n",
    "        return len(self.texts)\n",
    "\n",
    "    def __getitem__(self, index):\n",
    "        text = self.texts.iloc[index]\n",
    "        label = self.labels.iloc[index]\n",
    "        vectorized_text = self.vectorizer.transform([text]).toarray().squeeze() #вектор --> numpy --> one-dimensional\n",
    "        return torch.FloatTensor(vectorized_text), torch.FloatTensor([label])"
   ]
  },
  {
   "cell_type": "code",
   "execution_count": 5,
   "id": "6a15c661-05ec-4ba4-a1c3-99caf86c5be4",
   "metadata": {},
   "outputs": [
    {
     "data": {
      "text/html": [
       "<style>#sk-container-id-1 {color: black;}#sk-container-id-1 pre{padding: 0;}#sk-container-id-1 div.sk-toggleable {background-color: white;}#sk-container-id-1 label.sk-toggleable__label {cursor: pointer;display: block;width: 100%;margin-bottom: 0;padding: 0.3em;box-sizing: border-box;text-align: center;}#sk-container-id-1 label.sk-toggleable__label-arrow:before {content: \"▸\";float: left;margin-right: 0.25em;color: #696969;}#sk-container-id-1 label.sk-toggleable__label-arrow:hover:before {color: black;}#sk-container-id-1 div.sk-estimator:hover label.sk-toggleable__label-arrow:before {color: black;}#sk-container-id-1 div.sk-toggleable__content {max-height: 0;max-width: 0;overflow: hidden;text-align: left;background-color: #f0f8ff;}#sk-container-id-1 div.sk-toggleable__content pre {margin: 0.2em;color: black;border-radius: 0.25em;background-color: #f0f8ff;}#sk-container-id-1 input.sk-toggleable__control:checked~div.sk-toggleable__content {max-height: 200px;max-width: 100%;overflow: auto;}#sk-container-id-1 input.sk-toggleable__control:checked~label.sk-toggleable__label-arrow:before {content: \"▾\";}#sk-container-id-1 div.sk-estimator input.sk-toggleable__control:checked~label.sk-toggleable__label {background-color: #d4ebff;}#sk-container-id-1 div.sk-label input.sk-toggleable__control:checked~label.sk-toggleable__label {background-color: #d4ebff;}#sk-container-id-1 input.sk-hidden--visually {border: 0;clip: rect(1px 1px 1px 1px);clip: rect(1px, 1px, 1px, 1px);height: 1px;margin: -1px;overflow: hidden;padding: 0;position: absolute;width: 1px;}#sk-container-id-1 div.sk-estimator {font-family: monospace;background-color: #f0f8ff;border: 1px dotted black;border-radius: 0.25em;box-sizing: border-box;margin-bottom: 0.5em;}#sk-container-id-1 div.sk-estimator:hover {background-color: #d4ebff;}#sk-container-id-1 div.sk-parallel-item::after {content: \"\";width: 100%;border-bottom: 1px solid gray;flex-grow: 1;}#sk-container-id-1 div.sk-label:hover label.sk-toggleable__label {background-color: #d4ebff;}#sk-container-id-1 div.sk-serial::before {content: \"\";position: absolute;border-left: 1px solid gray;box-sizing: border-box;top: 0;bottom: 0;left: 50%;z-index: 0;}#sk-container-id-1 div.sk-serial {display: flex;flex-direction: column;align-items: center;background-color: white;padding-right: 0.2em;padding-left: 0.2em;position: relative;}#sk-container-id-1 div.sk-item {position: relative;z-index: 1;}#sk-container-id-1 div.sk-parallel {display: flex;align-items: stretch;justify-content: center;background-color: white;position: relative;}#sk-container-id-1 div.sk-item::before, #sk-container-id-1 div.sk-parallel-item::before {content: \"\";position: absolute;border-left: 1px solid gray;box-sizing: border-box;top: 0;bottom: 0;left: 50%;z-index: -1;}#sk-container-id-1 div.sk-parallel-item {display: flex;flex-direction: column;z-index: 1;position: relative;background-color: white;}#sk-container-id-1 div.sk-parallel-item:first-child::after {align-self: flex-end;width: 50%;}#sk-container-id-1 div.sk-parallel-item:last-child::after {align-self: flex-start;width: 50%;}#sk-container-id-1 div.sk-parallel-item:only-child::after {width: 0;}#sk-container-id-1 div.sk-dashed-wrapped {border: 1px dashed gray;margin: 0 0.4em 0.5em 0.4em;box-sizing: border-box;padding-bottom: 0.4em;background-color: white;}#sk-container-id-1 div.sk-label label {font-family: monospace;font-weight: bold;display: inline-block;line-height: 1.2em;}#sk-container-id-1 div.sk-label-container {text-align: center;}#sk-container-id-1 div.sk-container {/* jupyter's `normalize.less` sets `[hidden] { display: none; }` but bootstrap.min.css set `[hidden] { display: none !important; }` so we also need the `!important` here to be able to override the default hidden behavior on the sphinx rendered scikit-learn.org. See: https://github.com/scikit-learn/scikit-learn/issues/21755 */display: inline-block !important;position: relative;}#sk-container-id-1 div.sk-text-repr-fallback {display: none;}</style><div id=\"sk-container-id-1\" class=\"sk-top-container\"><div class=\"sk-text-repr-fallback\"><pre>CountVectorizer()</pre><b>In a Jupyter environment, please rerun this cell to show the HTML representation or trust the notebook. <br />On GitHub, the HTML representation is unable to render, please try loading this page with nbviewer.org.</b></div><div class=\"sk-container\" hidden><div class=\"sk-item\"><div class=\"sk-estimator sk-toggleable\"><input class=\"sk-toggleable__control sk-hidden--visually\" id=\"sk-estimator-id-1\" type=\"checkbox\" checked><label for=\"sk-estimator-id-1\" class=\"sk-toggleable__label sk-toggleable__label-arrow\">CountVectorizer</label><div class=\"sk-toggleable__content\"><pre>CountVectorizer()</pre></div></div></div></div></div>"
      ],
      "text/plain": [
       "CountVectorizer()"
      ]
     },
     "execution_count": 5,
     "metadata": {},
     "output_type": "execute_result"
    }
   ],
   "source": [
    "vectorizer = CountVectorizer()\n",
    "vectorizer.fit(train_df['text'])"
   ]
  },
  {
   "cell_type": "code",
   "execution_count": 6,
   "id": "2ddf6282-bfba-46f3-b8fd-5ffd2715a445",
   "metadata": {},
   "outputs": [],
   "source": [
    "train_dataset = TextDataset(train_df['text'], train_df['index'], vectorizer)\n",
    "test_dataset = TextDataset(test_df['text'], test_df['index'], vectorizer)"
   ]
  },
  {
   "cell_type": "code",
   "execution_count": 7,
   "id": "14ec7ce5-1820-4a97-b86c-21127110564b",
   "metadata": {},
   "outputs": [],
   "source": [
    "batch_size = 32\n",
    "train_loader = DataLoader(train_dataset, batch_size=batch_size, shuffle=True)\n",
    "test_loader = DataLoader(test_dataset, batch_size=batch_size, shuffle=False)"
   ]
  },
  {
   "cell_type": "code",
   "execution_count": 8,
   "id": "ba9606f9-a58f-4354-93a7-be4c00f2d795",
   "metadata": {},
   "outputs": [],
   "source": [
    "class NeuralNet(nn.Module): # наследует от пайторческой нейронки\n",
    "    def __init__(self, input_size):\n",
    "        super(NeuralNet, self).__init__() # nn.овский innit\n",
    "        self.layer = nn.Linear(input_size, 1) # линейная kx+b \n",
    "        self.sigmoid = nn.Sigmoid() # активация\n",
    "\n",
    "    def forward(self, x):\n",
    "        x = self.layer(x)\n",
    "        x = self.sigmoid(x)\n",
    "        return x"
   ]
  },
  {
   "cell_type": "markdown",
   "id": "585d3736-dce4-4660-b114-bb38d9967db8",
   "metadata": {},
   "source": [
    "### `Neural Net --> Linear` <br>\n",
    "Самая распространная и простая в имплементации моделька. Остальные, которые я посмотрела, <br>\n",
    "используются для более сложных задач классификации и более объемных датасетов. <br>\n",
    "Так что для этой задачи вполне подходила линейная с сигмоидой."
   ]
  },
  {
   "cell_type": "code",
   "execution_count": 9,
   "id": "ea1dc3d1-8475-413d-830a-cd4e5d7cebe3",
   "metadata": {},
   "outputs": [],
   "source": [
    "input_size = len(vectorizer.get_feature_names_out())\n",
    "model = NeuralNet(input_size)\n",
    "loss_count = nn.BCELoss() # Binary Cross Enthropy Loss\n",
    "optimizer = optim.Adam(model.parameters(), lr=0.01) # обновлять параметры"
   ]
  },
  {
   "cell_type": "code",
   "execution_count": 10,
   "id": "0f68190c-2ab9-4e02-a3aa-21494bfb7d9d",
   "metadata": {},
   "outputs": [
    {
     "name": "stdout",
     "output_type": "stream",
     "text": [
      "Эпоха #1, Loss: 0.1328076869249344\n",
      "Эпоха #2, Loss: 0.01439106184989214\n",
      "Эпоха #3, Loss: 0.01087555568665266\n",
      "Эпоха #4, Loss: 0.005815727170556784\n",
      "Эпоха #5, Loss: 0.004444061778485775\n",
      "Эпоха #6, Loss: 0.0049326419830322266\n",
      "Эпоха #7, Loss: 0.0018565593054518104\n",
      "Эпоха #8, Loss: 0.0025938290636986494\n",
      "Эпоха #9, Loss: 0.0012192873982712626\n",
      "Эпоха #10, Loss: 0.0014434984186664224\n"
     ]
    }
   ],
   "source": [
    "num_epochs = 10\n",
    "for epoch in range(num_epochs):\n",
    "    model.train()\n",
    "    for inputs, labels in train_loader:\n",
    "        optimizer.zero_grad() # ставим на ноль перед каждым сэмплом\n",
    "        outputs = model(inputs)\n",
    "        loss = loss_count(outputs, labels)\n",
    "        loss.backward() # backpropagation\n",
    "        optimizer.step()\n",
    "    print(f'Эпоха #{epoch+1}, Loss: {loss}')"
   ]
  },
  {
   "cell_type": "code",
   "execution_count": 11,
   "id": "97f1c2ad-91e5-40ed-bea5-d23995417b77",
   "metadata": {},
   "outputs": [],
   "source": [
    "model.eval()\n",
    "all_predictions = []\n",
    "all_labels = []\n",
    "with torch.no_grad(): # не считает градиент в оценивании точности\n",
    "    for inputs, labels in test_loader:\n",
    "        outputs = model(inputs)\n",
    "        predictions = (outputs >= 0.5).float() #округление\n",
    "        all_predictions.extend(predictions.numpy())\n",
    "        all_labels.extend(labels.numpy())"
   ]
  },
  {
   "cell_type": "code",
   "execution_count": 12,
   "id": "cc64bb34-1156-4fda-9e3a-0ffa1d93b5b5",
   "metadata": {},
   "outputs": [
    {
     "name": "stdout",
     "output_type": "stream",
     "text": [
      "Accuracy: 0.9863945578231292\n"
     ]
    }
   ],
   "source": [
    "accuracy = accuracy_score(all_labels, all_predictions)\n",
    "print(f\"Accuracy: {accuracy}\")"
   ]
  },
  {
   "cell_type": "code",
   "execution_count": 15,
   "id": "5577cfcf-7318-4cab-a89c-d8faca69e44d",
   "metadata": {},
   "outputs": [],
   "source": [
    "def predict_class(text):\n",
    "    vectorized_text = vectorizer.transform([text]).toarray().squeeze()\n",
    "    input_tensor = torch.FloatTensor(vectorized_text)\n",
    "    \n",
    "    model.eval()\n",
    "    with torch.no_grad():\n",
    "        output = model(input_tensor)\n",
    "        prediction = 1 if output.item() >= 0.5 else 0\n",
    "\n",
    "    return prediction"
   ]
  },
  {
   "cell_type": "code",
   "execution_count": 16,
   "id": "651b623d-7687-45f4-9583-6a3730a66b37",
   "metadata": {},
   "outputs": [
    {
     "name": "stdout",
     "output_type": "stream",
     "text": [
      "Класс: 0\n"
     ]
    }
   ],
   "source": [
    "remark_text ='Женщина шла наискосок через мост прямо на Равика. Она шла  быстро,  но каким-то  нетвердым шагом. Равик заметил ее лишь  тогда, когда она оказалась почти  рядом.'\n",
    "prediction = predict_class(remark_text)\n",
    "print(f\"Класс: {prediction}\")"
   ]
  },
  {
   "cell_type": "code",
   "execution_count": 18,
   "id": "9ebcfa9c-30ab-4633-84cf-36dcf7557259",
   "metadata": {},
   "outputs": [
    {
     "name": "stdout",
     "output_type": "stream",
     "text": [
      "Класс: 0\n"
     ]
    }
   ],
   "source": [
    "my_text = 'Ввожу текст написанный мной для того чтоб оценить точность модельки'\n",
    "prediction = predict_class(my_text)\n",
    "print(f\"Класс: {prediction}\")"
   ]
  },
  {
   "cell_type": "code",
   "execution_count": 19,
   "id": "cbedd984-adbd-40f3-99ee-41393f4f8869",
   "metadata": {},
   "outputs": [
    {
     "name": "stdout",
     "output_type": "stream",
     "text": [
      "Класс: 1\n"
     ]
    }
   ],
   "source": [
    "krapivin_text = 'Револьвер был итальянской системы «Пикколо». В точности как настоящий. Только вместо медных патронов – стеклянные баллончики со сжатым воздухом. Хлопал он оглушительно, бил пластмассовыми пулями крепко, но застрелиться из него было все-таки невозможно. Я и не пробовал. Вместо этого лежал на тахте и стрелял по фужерам.'\n",
    "prediction = predict_class(krapivin_text)\n",
    "print(f\"Класс: {prediction}\")"
   ]
  }
 ],
 "metadata": {
  "kernelspec": {
   "display_name": "Python 3 (ipykernel)",
   "language": "python",
   "name": "python3"
  },
  "language_info": {
   "codemirror_mode": {
    "name": "ipython",
    "version": 3
   },
   "file_extension": ".py",
   "mimetype": "text/x-python",
   "name": "python",
   "nbconvert_exporter": "python",
   "pygments_lexer": "ipython3",
   "version": "3.10.12"
  }
 },
 "nbformat": 4,
 "nbformat_minor": 5
}
