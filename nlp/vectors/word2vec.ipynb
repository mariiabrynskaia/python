{
 "cells": [
  {
   "cell_type": "code",
   "execution_count": 1,
   "metadata": {},
   "outputs": [],
   "source": [
    "import gensim.downloader\n",
    "import nltk\n",
    "from nltk.corpus import stopwords\n",
    "import spacy\n",
    "nlp = spacy.load('ru_core_news_sm')\n",
    "from sklearn.feature_extraction.text import CountVectorizer"
   ]
  },
  {
   "cell_type": "code",
   "execution_count": 2,
   "metadata": {},
   "outputs": [],
   "source": [
    "word2vec_rus = gensim.downloader.load('word2vec-ruscorpora-300')"
   ]
  },
  {
   "cell_type": "code",
   "execution_count": 3,
   "metadata": {},
   "outputs": [],
   "source": [
    "def preprocess(text):\n",
    "    # убираем стоп слова\n",
    "    words_filtered = []\n",
    "    tok = nltk.tokenize.WhitespaceTokenizer()\n",
    "    words = tok.tokenize(text)    \n",
    "    stop = stopwords.words('russian')\n",
    "    words_filtered = [word for word in words if word not in stop]\n",
    "    words_filtered = str(words_filtered)\n",
    "    # лемматизируем\n",
    "    doc = nlp(words_filtered)\n",
    "    words_lemma = [token.lemma_ for token in doc if not token.is_punct and not token.is_stop]\n",
    "    return words_lemma"
   ]
  },
  {
   "cell_type": "code",
   "execution_count": 4,
   "metadata": {},
   "outputs": [],
   "source": [
    "# автор Крапивин\n",
    "book4 = open('2004_venus_across_the_sun.txt').read() # Прохождение Венеры по диску солнца"
   ]
  },
  {
   "cell_type": "code",
   "execution_count": 5,
   "metadata": {},
   "outputs": [],
   "source": [
    "book4_preprocessed = preprocess(book4)"
   ]
  },
  {
   "cell_type": "code",
   "execution_count": 6,
   "metadata": {},
   "outputs": [
    {
     "name": "stdout",
     "output_type": "stream",
     "text": [
      "['Прямо', 'расставаться', 'медаль', 'равный', 'полустуле', 'тратить', '3', 'израильтянин', 'год', 'рассказать', 'тахта', 'синхронно', 'крутнулся', 'бельё', 'забыть', 'пойти', 'правда', 'чево', 'дорогой', 'встану', 'любить', 'воздух', 'клиентура', 'Случайно', 'стас', 'синий', 'зелёнка', 'падать', 'твой', 'хороший', 'виноватый', 'сказать', 'стратегический', 'полотенце', 'расстреливать', 'суп', 'ремешок', 'спальня', 'итальянский', 'явь', 'сказать', 'картофель', 'сидеть', 'воспитательный', 'нужный', 'кипрея', 'глаз', 'вовка', 'выглянуть', 'рот', 'вздохнуть', 'начну', 'вытирал', 'остальным', 'шёпот', 'верить', 'хранитель', 'приехать', 'мелькнуть', 'сумм', 'повстречаться', 'труба', 'два', 'вовка', 'перебраться', 'никакой', 'вечер', 'приятель', 'врал', 'способность', 'палец', 'слышать', 'день', 'день', 'тротуар', 'вовка', 'беспокойный', 'любить', 'займусь', 'гонорар', 'орден', 'начаться', 'потрясение', 'делать', 'нога', 'молодой', 'вставить', 'комната', 'помчаться', 'одесский', 'двое', 'зашагал', 'помогать', 'вовка', 'охрана', 'вытаращить', 'неинтересный', 'каждый', 'любить', 'заорать']\n"
     ]
    }
   ],
   "source": [
    "import random\n",
    "\n",
    "random_words = random.sample(book4_preprocessed, 100)\n",
    "random_words = str(random_words)\n",
    "print(random_words)"
   ]
  },
  {
   "cell_type": "code",
   "execution_count": 7,
   "metadata": {},
   "outputs": [],
   "source": [
    "nlp = spacy.load('ru_core_news_sm')"
   ]
  },
  {
   "cell_type": "code",
   "execution_count": 8,
   "metadata": {},
   "outputs": [
    {
     "data": {
      "text/plain": [
       "['Прямо', 'расставаться', 'медаль', 'равный', 'полустуле', 'тратить', '3', 'израильтянин', 'год', 'рассказать', 'тахта', 'синхронно', 'крутнулся', 'бельё', 'забыть', 'пойти', 'правда', 'чево', 'дорогой', 'встану', 'любить', 'воздух', 'клиентура', 'Случайно', 'стас', 'синий', 'зелёнка', 'падать', 'твой', 'хороший', 'виноватый', 'сказать', 'стратегический', 'полотенце', 'расстреливать', 'суп', 'ремешок', 'спальня', 'итальянский', 'явь', 'сказать', 'картофель', 'сидеть', 'воспитательный', 'нужный', 'кипрея', 'глаз', 'вовка', 'выглянуть', 'рот', 'вздохнуть', 'начну', 'вытирал', 'остальным', 'шёпот', 'верить', 'хранитель', 'приехать', 'мелькнуть', 'сумм', 'повстречаться', 'труба', 'два', 'вовка', 'перебраться', 'никакой', 'вечер', 'приятель', 'врал', 'способность', 'палец', 'слышать', 'день', 'день', 'тротуар', 'вовка', 'беспокойный', 'любить', 'займусь', 'гонорар', 'орден', 'начаться', 'потрясение', 'делать', 'нога', 'молодой', 'вставить', 'комната', 'помчаться', 'одесский', 'двое', 'зашагал', 'помогать', 'вовка', 'охрана', 'вытаращить', 'неинтересный', 'каждый', 'любить', 'заорать']"
      ]
     },
     "execution_count": 8,
     "metadata": {},
     "output_type": "execute_result"
    }
   ],
   "source": [
    "doc4 = nlp(random_words)\n",
    "doc4"
   ]
  },
  {
   "cell_type": "code",
   "execution_count": 9,
   "metadata": {},
   "outputs": [
    {
     "data": {
      "text/plain": [
       "['Прямо_ADV',\n",
       " 'расставаться_VERB',\n",
       " 'медаль_NOUN',\n",
       " 'равный_ADJ',\n",
       " 'полустуле_PROPN',\n",
       " 'тратить_VERB',\n",
       " '3_NUM',\n",
       " 'израильтянин_NOUN',\n",
       " 'год_NOUN',\n",
       " 'рассказать_VERB',\n",
       " 'тахта_NOUN',\n",
       " 'синхронно_ADV',\n",
       " 'крутнулся_VERB',\n",
       " 'бельё_VERB',\n",
       " 'забыть_VERB',\n",
       " 'пойти_VERB',\n",
       " 'правда_NOUN',\n",
       " 'чево_PROPN',\n",
       " 'дорогой_ADJ',\n",
       " 'встану_NOUN',\n",
       " 'любить_VERB',\n",
       " 'воздух_NOUN',\n",
       " 'клиентура_NOUN',\n",
       " 'Случайно_ADV',\n",
       " 'стас_PROPN',\n",
       " 'синий_ADJ',\n",
       " 'зелёнка_NOUN',\n",
       " 'падать_VERB',\n",
       " 'твой_DET',\n",
       " 'хороший_ADJ',\n",
       " 'виноватый_ADJ',\n",
       " 'сказать_VERB',\n",
       " 'стратегический_ADJ',\n",
       " 'полотенце_NOUN',\n",
       " 'расстреливать_VERB',\n",
       " 'суп_NOUN',\n",
       " 'ремешок_NOUN',\n",
       " 'спальня_NOUN',\n",
       " 'итальянский_ADJ',\n",
       " 'явь_NOUN',\n",
       " 'сказать_VERB',\n",
       " 'картофель_NOUN',\n",
       " 'сидеть_VERB',\n",
       " 'воспитательный_ADJ',\n",
       " 'нужный_ADJ',\n",
       " 'кипрея_PROPN',\n",
       " 'глаз_NOUN',\n",
       " 'вовка_NOUN',\n",
       " 'выглянуть_VERB',\n",
       " 'рот_NOUN',\n",
       " 'вздохнуть_VERB',\n",
       " 'начну_VERB',\n",
       " 'вытирал_VERB',\n",
       " 'остальным_ADJ',\n",
       " 'шёпот_NOUN',\n",
       " 'верить_VERB',\n",
       " 'хранитель_NOUN',\n",
       " 'приехать_VERB',\n",
       " 'мелькнуть_VERB',\n",
       " 'сумм_PROPN',\n",
       " 'повстречаться_VERB',\n",
       " 'труба_NOUN',\n",
       " 'два_NUM',\n",
       " 'вовка_NOUN',\n",
       " 'перебраться_VERB',\n",
       " 'никакой_DET',\n",
       " 'вечер_NOUN',\n",
       " 'приятель_NOUN',\n",
       " 'врал_VERB',\n",
       " 'способность_NOUN',\n",
       " 'палец_NOUN',\n",
       " 'слышать_VERB',\n",
       " 'день_NOUN',\n",
       " 'день_NOUN',\n",
       " 'тротуар_NOUN',\n",
       " 'вовка_NOUN',\n",
       " 'беспокойный_ADJ',\n",
       " 'любить_VERB',\n",
       " 'займусь_VERB',\n",
       " 'гонорар_NOUN',\n",
       " 'орден_NOUN',\n",
       " 'начаться_VERB',\n",
       " 'потрясение_NOUN',\n",
       " 'делать_VERB',\n",
       " 'нога_NOUN',\n",
       " 'молодой_ADJ',\n",
       " 'вставить_VERB',\n",
       " 'комната_NOUN',\n",
       " 'помчаться_VERB',\n",
       " 'одесский_ADJ',\n",
       " 'двое_NUM',\n",
       " 'зашагал_VERB',\n",
       " 'помогать_VERB',\n",
       " 'вовка_NOUN',\n",
       " 'охрана_NOUN',\n",
       " 'вытаращить_VERB',\n",
       " 'неинтересный_ADJ',\n",
       " 'каждый_DET',\n",
       " 'любить_VERB',\n",
       " 'заорать_VERB']"
      ]
     },
     "execution_count": 9,
     "metadata": {},
     "output_type": "execute_result"
    }
   ],
   "source": [
    "preprocessed_list_for_vectorization = []\n",
    "for token in doc4:\n",
    "    tag = token.pos_\n",
    "    # print(f'word: {token}, tag: {tag}')\n",
    "    if tag != 'PUNCT':\n",
    "        preprocessed_list_for_vectorization.append(f'{token}_{tag}')\n",
    "preprocessed_list_for_vectorization"
   ]
  },
  {
   "cell_type": "code",
   "execution_count": 10,
   "metadata": {},
   "outputs": [
    {
     "name": "stdout",
     "output_type": "stream",
     "text": [
      "72 words were successfully found in the model.\n",
      " The found words are ['расставаться_VERB', 'медаль_NOUN', 'равный_ADJ', 'тратить_VERB', 'израильтянин_NOUN', 'год_NOUN', 'тахта_NOUN', 'синхронно_ADV', 'пойти_VERB', 'правда_NOUN', 'дорогой_ADJ', 'любить_VERB', 'воздух_NOUN', 'клиентура_NOUN', 'синий_ADJ', 'падать_VERB', 'хороший_ADJ', 'виноватый_ADJ', 'сказать_VERB', 'стратегический_ADJ', 'полотенце_NOUN', 'расстреливать_VERB', 'суп_NOUN', 'ремешок_NOUN', 'спальня_NOUN', 'итальянский_ADJ', 'явь_NOUN', 'сказать_VERB', 'картофель_NOUN', 'сидеть_VERB', 'воспитательный_ADJ', 'нужный_ADJ', 'глаз_NOUN', 'вовка_NOUN', 'выглянуть_VERB', 'рот_NOUN', 'верить_VERB', 'хранитель_NOUN', 'мелькнуть_VERB', 'повстречаться_VERB', 'труба_NOUN', 'вовка_NOUN', 'никакой_DET', 'вечер_NOUN', 'приятель_NOUN', 'способность_NOUN', 'палец_NOUN', 'слышать_VERB', 'день_NOUN', 'день_NOUN', 'тротуар_NOUN', 'вовка_NOUN', 'беспокойный_ADJ', 'любить_VERB', 'гонорар_NOUN', 'орден_NOUN', 'потрясение_NOUN', 'делать_VERB', 'нога_NOUN', 'молодой_ADJ', 'комната_NOUN', 'помчаться_VERB', 'одесский_ADJ', 'двое_NUM', 'помогать_VERB', 'вовка_NOUN', 'охрана_NOUN', 'вытаращить_VERB', 'неинтересный_ADJ', 'каждый_DET', 'любить_VERB', 'заорать_VERB']\n",
      "\n",
      "28 words were NOT found in the model.\n",
      " These words are ['Прямо_ADV', 'полустуле_PROPN', '3_NUM', 'рассказать_VERB', 'крутнулся_VERB', 'бельё_VERB', 'забыть_VERB', 'чево_PROPN', 'встану_NOUN', 'Случайно_ADV', 'стас_PROPN', 'зелёнка_NOUN', 'твой_DET', 'кипрея_PROPN', 'вздохнуть_VERB', 'начну_VERB', 'вытирал_VERB', 'остальным_ADJ', 'шёпот_NOUN', 'приехать_VERB', 'сумм_PROPN', 'два_NUM', 'перебраться_VERB', 'врал_VERB', 'займусь_VERB', 'начаться_VERB', 'вставить_VERB', 'зашагал_VERB']\n"
     ]
    }
   ],
   "source": [
    "found = 0\n",
    "not_found = 0\n",
    "not_found_list = []\n",
    "found_words_list = []\n",
    "vectors = []\n",
    "for word in preprocessed_list_for_vectorization:\n",
    "    try:\n",
    "        vector = word2vec_rus[word]\n",
    "        vectors.append(vector)\n",
    "        found += 1\n",
    "        found_words_list.append(word)\n",
    "        # print(word, vector)\n",
    "    except KeyError:\n",
    "        not_found_list.append(word)\n",
    "        not_found += 1\n",
    "        continue\n",
    "print(f'{found} words were successfully found in the model.\\n The found words are {found_words_list}\\n')\n",
    "print(f'{not_found} words were NOT found in the model.\\n These words are {not_found_list}')"
   ]
  },
  {
   "cell_type": "code",
   "execution_count": 11,
   "metadata": {},
   "outputs": [
    {
     "name": "stdout",
     "output_type": "stream",
     "text": [
      "Похожие слова:\n",
      "медаль_NOUN орден_NOUN\n",
      "тахта_NOUN спальня_NOUN\n",
      "тахта_NOUN комната_NOUN\n",
      "пойти_VERB помчаться_VERB\n",
      "правда_NOUN верить_VERB\n",
      "любить_VERB верить_VERB\n",
      "суп_NOUN картофель_NOUN\n",
      "спальня_NOUN комната_NOUN\n",
      "глаз_NOUN рот_NOUN\n",
      "верить_VERB любить_VERB\n",
      "верить_VERB любить_VERB\n",
      "вечер_NOUN день_NOUN\n",
      "вечер_NOUN день_NOUN\n",
      "палец_NOUN нога_NOUN\n",
      "помчаться_VERB заорать_VERB\n"
     ]
    }
   ],
   "source": [
    "from sklearn.metrics.pairwise import cosine_similarity\n",
    "\n",
    "similar_pairs = []\n",
    "\n",
    "for i in range(len(vectors)):\n",
    "    for j in range(i+1, len(vectors)):\n",
    "        similarity = cosine_similarity([vectors[i]], [vectors[j]])[0][0]\n",
    "        if similarity >= 0.46:\n",
    "            similar_pairs.append((found_words_list[i], found_words_list[j]))\n",
    "\n",
    "if similar_pairs:\n",
    "    print(\"Похожие слова:\")\n",
    "    for pair in similar_pairs:\n",
    "        if pair[0] != pair[1]:\n",
    "            print(pair[0], pair[1])\n",
    "\n"
   ]
  }
 ],
 "metadata": {
  "kernelspec": {
   "display_name": "Python 3",
   "language": "python",
   "name": "python3"
  },
  "language_info": {
   "codemirror_mode": {
    "name": "ipython",
    "version": 3
   },
   "file_extension": ".py",
   "mimetype": "text/x-python",
   "name": "python",
   "nbconvert_exporter": "python",
   "pygments_lexer": "ipython3",
   "version": "3.11.5"
  }
 },
 "nbformat": 4,
 "nbformat_minor": 2
}
